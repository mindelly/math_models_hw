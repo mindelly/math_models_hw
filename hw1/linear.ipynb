{
 "cells": [
  {
   "cell_type": "code",
   "execution_count": 1,
   "metadata": {},
   "outputs": [],
   "source": [
    "import numpy as np\n",
    "import matplotlib\n",
    "import matplotlib.pyplot as plt"
   ]
  },
  {
   "cell_type": "markdown",
   "metadata": {},
   "source": [
    "Воспоминания о загрузке данных\n",
    "-----------------------------------------------------"
   ]
  },
  {
   "cell_type": "code",
   "execution_count": 4,
   "metadata": {},
   "outputs": [
    {
     "name": "stdout",
     "output_type": "stream",
     "text": [
      "[(1., 1.52101, 13.64, 4.49, 1.1 , 71.78, 0.06, 8.75, 0., 0., 1.)\n",
      " (2., 1.51761, 13.89, 3.6 , 1.36, 72.73, 0.48, 7.83, 0., 0., 1.)\n",
      " (3., 1.51618, 13.53, 3.55, 1.54, 72.99, 0.39, 7.78, 0., 0., 1.)\n",
      " (4., 1.51766, 13.21, 3.69, 1.29, 72.61, 0.57, 8.22, 0., 0., 1.)\n",
      " (5., 1.51742, 13.27, 3.62, 1.24, 73.08, 0.55, 8.07, 0., 0., 1.)]\n"
     ]
    }
   ],
   "source": [
    "import numpy as np\n",
    "\n",
    "names = (\"id\", \"n\", \"Na\", \"Mg\", \"Al\", \"Si\", \"K\", \"Ca\", \"Ba\", \"Fe\", \"Type\") \n",
    "data = np.genfromtxt('glass.csv', delimiter=',', names=names)\n",
    "#genfromtxt - load data from a text file, with missing values handled as specified.\n",
    "print(data[0:5])"
   ]
  },
  {
   "cell_type": "code",
   "execution_count": 7,
   "metadata": {},
   "outputs": [
    {
     "data": {
      "text/html": [
       "<div>\n",
       "<style scoped>\n",
       "    .dataframe tbody tr th:only-of-type {\n",
       "        vertical-align: middle;\n",
       "    }\n",
       "\n",
       "    .dataframe tbody tr th {\n",
       "        vertical-align: top;\n",
       "    }\n",
       "\n",
       "    .dataframe thead th {\n",
       "        text-align: right;\n",
       "    }\n",
       "</style>\n",
       "<table border=\"1\" class=\"dataframe\">\n",
       "  <thead>\n",
       "    <tr style=\"text-align: right;\">\n",
       "      <th></th>\n",
       "      <th>n</th>\n",
       "      <th>Na</th>\n",
       "      <th>Mg</th>\n",
       "      <th>Al</th>\n",
       "      <th>Si</th>\n",
       "      <th>K</th>\n",
       "      <th>Ca</th>\n",
       "      <th>Ba</th>\n",
       "      <th>Fe</th>\n",
       "      <th>Type</th>\n",
       "    </tr>\n",
       "    <tr>\n",
       "      <th>id</th>\n",
       "      <th></th>\n",
       "      <th></th>\n",
       "      <th></th>\n",
       "      <th></th>\n",
       "      <th></th>\n",
       "      <th></th>\n",
       "      <th></th>\n",
       "      <th></th>\n",
       "      <th></th>\n",
       "      <th></th>\n",
       "    </tr>\n",
       "  </thead>\n",
       "  <tbody>\n",
       "    <tr>\n",
       "      <td>1</td>\n",
       "      <td>1.52101</td>\n",
       "      <td>13.64</td>\n",
       "      <td>4.49</td>\n",
       "      <td>1.10</td>\n",
       "      <td>71.78</td>\n",
       "      <td>0.06</td>\n",
       "      <td>8.75</td>\n",
       "      <td>0.0</td>\n",
       "      <td>0.0</td>\n",
       "      <td>1</td>\n",
       "    </tr>\n",
       "    <tr>\n",
       "      <td>2</td>\n",
       "      <td>1.51761</td>\n",
       "      <td>13.89</td>\n",
       "      <td>3.60</td>\n",
       "      <td>1.36</td>\n",
       "      <td>72.73</td>\n",
       "      <td>0.48</td>\n",
       "      <td>7.83</td>\n",
       "      <td>0.0</td>\n",
       "      <td>0.0</td>\n",
       "      <td>1</td>\n",
       "    </tr>\n",
       "    <tr>\n",
       "      <td>3</td>\n",
       "      <td>1.51618</td>\n",
       "      <td>13.53</td>\n",
       "      <td>3.55</td>\n",
       "      <td>1.54</td>\n",
       "      <td>72.99</td>\n",
       "      <td>0.39</td>\n",
       "      <td>7.78</td>\n",
       "      <td>0.0</td>\n",
       "      <td>0.0</td>\n",
       "      <td>1</td>\n",
       "    </tr>\n",
       "    <tr>\n",
       "      <td>4</td>\n",
       "      <td>1.51766</td>\n",
       "      <td>13.21</td>\n",
       "      <td>3.69</td>\n",
       "      <td>1.29</td>\n",
       "      <td>72.61</td>\n",
       "      <td>0.57</td>\n",
       "      <td>8.22</td>\n",
       "      <td>0.0</td>\n",
       "      <td>0.0</td>\n",
       "      <td>1</td>\n",
       "    </tr>\n",
       "    <tr>\n",
       "      <td>5</td>\n",
       "      <td>1.51742</td>\n",
       "      <td>13.27</td>\n",
       "      <td>3.62</td>\n",
       "      <td>1.24</td>\n",
       "      <td>73.08</td>\n",
       "      <td>0.55</td>\n",
       "      <td>8.07</td>\n",
       "      <td>0.0</td>\n",
       "      <td>0.0</td>\n",
       "      <td>1</td>\n",
       "    </tr>\n",
       "  </tbody>\n",
       "</table>\n",
       "</div>"
      ],
      "text/plain": [
       "          n     Na    Mg    Al     Si     K    Ca   Ba   Fe  Type\n",
       "id                                                               \n",
       "1   1.52101  13.64  4.49  1.10  71.78  0.06  8.75  0.0  0.0     1\n",
       "2   1.51761  13.89  3.60  1.36  72.73  0.48  7.83  0.0  0.0     1\n",
       "3   1.51618  13.53  3.55  1.54  72.99  0.39  7.78  0.0  0.0     1\n",
       "4   1.51766  13.21  3.69  1.29  72.61  0.57  8.22  0.0  0.0     1\n",
       "5   1.51742  13.27  3.62  1.24  73.08  0.55  8.07  0.0  0.0     1"
      ]
     },
     "execution_count": 7,
     "metadata": {},
     "output_type": "execute_result"
    }
   ],
   "source": [
    "import pandas as pd\n",
    "\n",
    "data = pd.read_csv('glass.csv', header=None, names=names, index_col=0)\n",
    "data.head()"
   ]
  },
  {
   "cell_type": "code",
   "execution_count": 13,
   "metadata": {},
   "outputs": [
    {
     "data": {
      "text/html": [
       "<div>\n",
       "<style scoped>\n",
       "    .dataframe tbody tr th:only-of-type {\n",
       "        vertical-align: middle;\n",
       "    }\n",
       "\n",
       "    .dataframe tbody tr th {\n",
       "        vertical-align: top;\n",
       "    }\n",
       "\n",
       "    .dataframe thead th {\n",
       "        text-align: right;\n",
       "    }\n",
       "</style>\n",
       "<table border=\"1\" class=\"dataframe\">\n",
       "  <thead>\n",
       "    <tr style=\"text-align: right;\">\n",
       "      <th></th>\n",
       "      <th>Cement (component 1)(kg in a m^3 mixture)</th>\n",
       "      <th>Blast Furnace Slag (component 2)(kg in a m^3 mixture)</th>\n",
       "      <th>Fly Ash (component 3)(kg in a m^3 mixture)</th>\n",
       "      <th>Water  (component 4)(kg in a m^3 mixture)</th>\n",
       "      <th>Superplasticizer (component 5)(kg in a m^3 mixture)</th>\n",
       "      <th>Coarse Aggregate  (component 6)(kg in a m^3 mixture)</th>\n",
       "      <th>Fine Aggregate (component 7)(kg in a m^3 mixture)</th>\n",
       "      <th>Age (day)</th>\n",
       "      <th>Concrete compressive strength(MPa, megapascals)</th>\n",
       "    </tr>\n",
       "  </thead>\n",
       "  <tbody>\n",
       "    <tr>\n",
       "      <td>0</td>\n",
       "      <td>540.0</td>\n",
       "      <td>0.0</td>\n",
       "      <td>0.0</td>\n",
       "      <td>162.0</td>\n",
       "      <td>2.5</td>\n",
       "      <td>1040.0</td>\n",
       "      <td>676.0</td>\n",
       "      <td>28</td>\n",
       "      <td>79.986111</td>\n",
       "    </tr>\n",
       "    <tr>\n",
       "      <td>1</td>\n",
       "      <td>540.0</td>\n",
       "      <td>0.0</td>\n",
       "      <td>0.0</td>\n",
       "      <td>162.0</td>\n",
       "      <td>2.5</td>\n",
       "      <td>1055.0</td>\n",
       "      <td>676.0</td>\n",
       "      <td>28</td>\n",
       "      <td>61.887366</td>\n",
       "    </tr>\n",
       "    <tr>\n",
       "      <td>2</td>\n",
       "      <td>332.5</td>\n",
       "      <td>142.5</td>\n",
       "      <td>0.0</td>\n",
       "      <td>228.0</td>\n",
       "      <td>0.0</td>\n",
       "      <td>932.0</td>\n",
       "      <td>594.0</td>\n",
       "      <td>270</td>\n",
       "      <td>40.269535</td>\n",
       "    </tr>\n",
       "    <tr>\n",
       "      <td>3</td>\n",
       "      <td>332.5</td>\n",
       "      <td>142.5</td>\n",
       "      <td>0.0</td>\n",
       "      <td>228.0</td>\n",
       "      <td>0.0</td>\n",
       "      <td>932.0</td>\n",
       "      <td>594.0</td>\n",
       "      <td>365</td>\n",
       "      <td>41.052780</td>\n",
       "    </tr>\n",
       "    <tr>\n",
       "      <td>4</td>\n",
       "      <td>198.6</td>\n",
       "      <td>132.4</td>\n",
       "      <td>0.0</td>\n",
       "      <td>192.0</td>\n",
       "      <td>0.0</td>\n",
       "      <td>978.4</td>\n",
       "      <td>825.5</td>\n",
       "      <td>360</td>\n",
       "      <td>44.296075</td>\n",
       "    </tr>\n",
       "  </tbody>\n",
       "</table>\n",
       "</div>"
      ],
      "text/plain": [
       "   Cement (component 1)(kg in a m^3 mixture)  \\\n",
       "0                                      540.0   \n",
       "1                                      540.0   \n",
       "2                                      332.5   \n",
       "3                                      332.5   \n",
       "4                                      198.6   \n",
       "\n",
       "   Blast Furnace Slag (component 2)(kg in a m^3 mixture)  \\\n",
       "0                                                0.0       \n",
       "1                                                0.0       \n",
       "2                                              142.5       \n",
       "3                                              142.5       \n",
       "4                                              132.4       \n",
       "\n",
       "   Fly Ash (component 3)(kg in a m^3 mixture)  \\\n",
       "0                                         0.0   \n",
       "1                                         0.0   \n",
       "2                                         0.0   \n",
       "3                                         0.0   \n",
       "4                                         0.0   \n",
       "\n",
       "   Water  (component 4)(kg in a m^3 mixture)  \\\n",
       "0                                      162.0   \n",
       "1                                      162.0   \n",
       "2                                      228.0   \n",
       "3                                      228.0   \n",
       "4                                      192.0   \n",
       "\n",
       "   Superplasticizer (component 5)(kg in a m^3 mixture)  \\\n",
       "0                                                2.5     \n",
       "1                                                2.5     \n",
       "2                                                0.0     \n",
       "3                                                0.0     \n",
       "4                                                0.0     \n",
       "\n",
       "   Coarse Aggregate  (component 6)(kg in a m^3 mixture)  \\\n",
       "0                                             1040.0      \n",
       "1                                             1055.0      \n",
       "2                                              932.0      \n",
       "3                                              932.0      \n",
       "4                                              978.4      \n",
       "\n",
       "   Fine Aggregate (component 7)(kg in a m^3 mixture)  Age (day)  \\\n",
       "0                                              676.0         28   \n",
       "1                                              676.0         28   \n",
       "2                                              594.0        270   \n",
       "3                                              594.0        365   \n",
       "4                                              825.5        360   \n",
       "\n",
       "   Concrete compressive strength(MPa, megapascals)   \n",
       "0                                         79.986111  \n",
       "1                                         61.887366  \n",
       "2                                         40.269535  \n",
       "3                                         41.052780  \n",
       "4                                         44.296075  "
      ]
     },
     "execution_count": 13,
     "metadata": {},
     "output_type": "execute_result"
    }
   ],
   "source": [
    "import pandas as pd\n",
    "\n",
    "data = pd.read_csv('concrete.csv')\n",
    "data.head()"
   ]
  },
  {
   "cell_type": "markdown",
   "metadata": {},
   "source": [
    "Воспоминания о работе с массивами `numpy`\n",
    "----------------------------------------------------"
   ]
  },
  {
   "cell_type": "code",
   "execution_count": 5,
   "metadata": {},
   "outputs": [],
   "source": [
    "import numpy as np"
   ]
  },
  {
   "cell_type": "code",
   "execution_count": 14,
   "metadata": {},
   "outputs": [
    {
     "name": "stdout",
     "output_type": "stream",
     "text": [
      "[1. 2. 3. 5. 8.]\n",
      "(5,)\n"
     ]
    }
   ],
   "source": [
    "x = np.array([1,2,3,5,8], dtype=np.float32)\n",
    "print(x)\n",
    "print(x.shape)"
   ]
  },
  {
   "cell_type": "code",
   "execution_count": 7,
   "metadata": {},
   "outputs": [
    {
     "name": "stdout",
     "output_type": "stream",
     "text": [
      "[1 2 3 5 8]\n",
      "(5,)\n"
     ]
    }
   ],
   "source": [
    "x = np.array([1,2,3,5,8], dtype=np.int8)\n",
    "print(x)\n",
    "print(x.shape)"
   ]
  },
  {
   "cell_type": "code",
   "execution_count": 32,
   "metadata": {},
   "outputs": [
    {
     "name": "stdout",
     "output_type": "stream",
     "text": [
      "[[ 0. -1.]\n",
      " [ 1.  0.]]\n",
      "(2, 2)\n"
     ]
    }
   ],
   "source": [
    "x = np.array([[0,-1],[1,0]], dtype=np.float32)\n",
    "print(x)\n",
    "print(x.shape)"
   ]
  },
  {
   "cell_type": "code",
   "execution_count": 33,
   "metadata": {},
   "outputs": [
    {
     "name": "stdout",
     "output_type": "stream",
     "text": [
      "[0. 1.]\n",
      "[0. 1.]\n"
     ]
    }
   ],
   "source": [
    "x = np.array([[0,-1],[1,0]], dtype=np.float32)\n",
    "z = np.array([1.0,0], dtype=np.float32)\n",
    "print(x @ z)\n",
    "print(x.dot(z))"
   ]
  },
  {
   "cell_type": "code",
   "execution_count": 34,
   "metadata": {},
   "outputs": [
    {
     "name": "stdout",
     "output_type": "stream",
     "text": [
      "[0 1 2 3 4 5 6 7 8 9]\n"
     ]
    }
   ],
   "source": [
    "x = np.arange(10)\n",
    "print(x)"
   ]
  },
  {
   "cell_type": "code",
   "execution_count": 16,
   "metadata": {},
   "outputs": [
    {
     "name": "stdout",
     "output_type": "stream",
     "text": [
      "[10  9  8  7  6  5  4  3  2  1  0]\n"
     ]
    }
   ],
   "source": [
    "x = np.arange(10, -1, -1)\n",
    "print(x)"
   ]
  },
  {
   "cell_type": "code",
   "execution_count": 36,
   "metadata": {},
   "outputs": [
    {
     "name": "stdout",
     "output_type": "stream",
     "text": [
      "[0.         0.33333333 0.66666667 1.         1.33333333 1.66666667\n",
      " 2.        ]\n"
     ]
    }
   ],
   "source": [
    "x = np.linspace(0, 2, 7)\n",
    "print(x)"
   ]
  },
  {
   "cell_type": "code",
   "execution_count": 37,
   "metadata": {},
   "outputs": [
    {
     "name": "stdout",
     "output_type": "stream",
     "text": [
      "[[0. 0.]\n",
      " [0. 0.]\n",
      " [0. 0.]]\n",
      "\n",
      "[[1. 1.]\n",
      " [1. 1.]\n",
      " [1. 1.]]\n",
      "\n",
      "[[2. 2.]\n",
      " [2. 2.]\n",
      " [2. 2.]]\n",
      "\n",
      "[[2. 2.]\n",
      " [2. 2.]\n",
      " [2. 2.]]\n"
     ]
    }
   ],
   "source": [
    "z = np.zeros((3, 2), dtype=np.float32)\n",
    "print(z)\n",
    "print()\n",
    "\n",
    "o = np.ones((3, 2), dtype=np.float32)\n",
    "print(o)\n",
    "print()\n",
    "\n",
    "t = np.full(z.shape, 2, dtype=np.float32)\n",
    "print(t)\n",
    "print()\n",
    "\n",
    "t = np.full_like(z, 2, dtype=np.float32)\n",
    "print(t)"
   ]
  },
  {
   "cell_type": "markdown",
   "metadata": {},
   "source": [
    "### Размерности массива"
   ]
  },
  {
   "cell_type": "code",
   "execution_count": 38,
   "metadata": {},
   "outputs": [
    {
     "name": "stdout",
     "output_type": "stream",
     "text": [
      "[ 0  1  2  3  4  5  6  7  8  9 10 11 12 13 14 15 16 17 18 19 20 21 22 23]\n",
      "(24,)\n",
      "\n",
      "[[ 0  1  2  3  4  5]\n",
      " [ 6  7  8  9 10 11]\n",
      " [12 13 14 15 16 17]\n",
      " [18 19 20 21 22 23]]\n",
      "(4, 6)\n",
      "\n",
      "[[[ 0  1  2  3]\n",
      "  [ 4  5  6  7]\n",
      "  [ 8  9 10 11]]\n",
      "\n",
      " [[12 13 14 15]\n",
      "  [16 17 18 19]\n",
      "  [20 21 22 23]]]\n",
      "(2, 3, 4)\n",
      "\n"
     ]
    }
   ],
   "source": [
    "x = np.arange(24)\n",
    "print(x)\n",
    "print(x.shape)\n",
    "print()\n",
    "\n",
    "x = x.reshape(4,6)\n",
    "print(x)\n",
    "print(x.shape)\n",
    "print()\n",
    "\n",
    "x = x.reshape(2,3,4)\n",
    "print(x)\n",
    "print(x.shape)\n",
    "print()"
   ]
  },
  {
   "cell_type": "code",
   "execution_count": 39,
   "metadata": {},
   "outputs": [
    {
     "name": "stdout",
     "output_type": "stream",
     "text": [
      "[0 1 2 3 4]\n",
      "(5,)\n",
      "\n",
      "[[0]\n",
      " [1]\n",
      " [2]\n",
      " [3]\n",
      " [4]]\n",
      "(5, 1)\n",
      "\n",
      "[[0 1 2 3 4]]\n",
      "(1, 5)\n",
      "\n"
     ]
    }
   ],
   "source": [
    "x = np.arange(5)\n",
    "print(x)\n",
    "print(x.shape)\n",
    "print()\n",
    "\n",
    "x = x.reshape(5,1)\n",
    "print(x)\n",
    "print(x.shape)\n",
    "print()\n",
    "\n",
    "x = x.reshape(1,5)\n",
    "print(x)\n",
    "print(x.shape)\n",
    "print()"
   ]
  },
  {
   "cell_type": "code",
   "execution_count": 40,
   "metadata": {},
   "outputs": [
    {
     "name": "stdout",
     "output_type": "stream",
     "text": [
      "[0 1 2 3 4 5 6 7 8 9]\n",
      "(10,)\n",
      "\n",
      "[[0]\n",
      " [1]\n",
      " [2]\n",
      " [3]\n",
      " [4]\n",
      " [5]\n",
      " [6]\n",
      " [7]\n",
      " [8]\n",
      " [9]]\n",
      "(10, 1)\n",
      "\n",
      "[[0 1]\n",
      " [2 3]\n",
      " [4 5]\n",
      " [6 7]\n",
      " [8 9]]\n",
      "(5, 2)\n",
      "\n"
     ]
    }
   ],
   "source": [
    "x = np.arange(10)\n",
    "print(x)\n",
    "print(x.shape)\n",
    "print()\n",
    "\n",
    "x = x.reshape(-1,1)\n",
    "print(x)\n",
    "print(x.shape)\n",
    "print()\n",
    "\n",
    "x = x.reshape(-1,2)\n",
    "print(x)\n",
    "print(x.shape)\n",
    "print()"
   ]
  },
  {
   "cell_type": "code",
   "execution_count": 20,
   "metadata": {},
   "outputs": [
    {
     "name": "stdout",
     "output_type": "stream",
     "text": [
      "[[1 2 3]\n",
      " [3 4 5]]\n",
      "[-1  0  2]\n",
      "\n",
      "[[-1  0  6]\n",
      " [-3  0 10]]\n",
      "\n",
      "[[1]\n",
      " [2]\n",
      " [3]]\n",
      "[-1  0  2]\n",
      "\n",
      "[[-1  0  2]\n",
      " [-2  0  4]\n",
      " [-3  0  6]]\n",
      "(3, 3)\n"
     ]
    }
   ],
   "source": [
    "x = np.array([[1,2,3],[3,4,5]])\n",
    "z = np.array([-1,0,2])\n",
    "print(x)\n",
    "print(z)\n",
    "print()\n",
    "print(x * z)\n",
    "print()\n",
    "\n",
    "x = np.array([[1],[2],[3]])\n",
    "print(x)\n",
    "print(z)\n",
    "print()\n",
    "print(x * z)\n",
    "\n",
    "print(np.broadcast(x, z).shape)"
   ]
  },
  {
   "cell_type": "markdown",
   "metadata": {},
   "source": [
    "### Срезы"
   ]
  },
  {
   "cell_type": "code",
   "execution_count": 22,
   "metadata": {},
   "outputs": [
    {
     "name": "stdout",
     "output_type": "stream",
     "text": [
      "[ 0  1  2  3  4  5  6  7  8  9 10 11 12 13 14 15]\n",
      "\n",
      "1.  x[1]        = 1\n",
      "2.  x[-2]       = 14\n",
      "3.  x[2:9]      = [2 3 4 5 6 7 8]\n",
      "4.  x[:9]       = [0 1 2 3 4 5 6 7 8]\n",
      "5.  x[2:]       = [ 2  3  4  5  6  7  8  9 10 11 12 13 14 15]\n",
      "6.  x[:]        = [ 0  1  2  3  4  5  6  7  8  9 10 11 12 13 14 15]\n",
      "7.  x[2:9:3]    = [2 5 8]\n",
      "8.  x[9:2:-1]   = [9 8 7 6 5 4 3]\n",
      "9.  x[::-1]     = [15 14 13 12 11 10  9  8  7  6  5  4  3  2  1  0]\n",
      "10. x[:-1]      = [ 0  1  2  3  4  5  6  7  8  9 10 11 12 13 14]\n",
      "11. x[-9:-2]    = [ 7  8  9 10 11 12 13]\n",
      "12. x[-9:-2:2]  = [ 7  9 11 13]\n",
      "13. x[-2:-9:-1] = [14 13 12 11 10  9  8]\n",
      "14. x[-2:-9:-2] = [14 12 10  8]\n"
     ]
    }
   ],
   "source": [
    "#x = np.linspace(0, 48, 16)\n",
    "x = np.arange(16)\n",
    "print(x)\n",
    "print()\n",
    "print(\"1.  x[1]        = {}\".format(x[1]))\n",
    "print(\"2.  x[-2]       = {}\".format(x[-2]))\n",
    "print(\"3.  x[2:9]      = {}\".format(x[2:9]))\n",
    "print(\"4.  x[:9]       = {}\".format(x[:9]))\n",
    "print(\"5.  x[2:]       = {}\".format(x[2:]))\n",
    "print(\"6.  x[:]        = {}\".format(x[:]))\n",
    "print(\"7.  x[2:9:3]    = {}\".format(x[2:9:3]))\n",
    "print(\"8.  x[9:2:-1]   = {}\".format(x[9:2:-1]))\n",
    "print(\"9.  x[::-1]     = {}\".format(x[::-1]))\n",
    "print(\"10. x[:-1]      = {}\".format(x[:-1]))\n",
    "print(\"11. x[-9:-2]    = {}\".format(x[-9:-2]))\n",
    "print(\"12. x[-9:-2:2]  = {}\".format(x[-9:-2:2]))\n",
    "print(\"13. x[-2:-9:-1] = {}\".format(x[-2:-9:-1]))\n",
    "print(\"14. x[-2:-9:-2] = {}\".format(x[-2:-9:-2]))"
   ]
  },
  {
   "cell_type": "code",
   "execution_count": 43,
   "metadata": {},
   "outputs": [
    {
     "name": "stdout",
     "output_type": "stream",
     "text": [
      "[[[ 0  1  2  3]\n",
      "  [ 4  5  6  7]\n",
      "  [ 8  9 10 11]]\n",
      "\n",
      " [[12 13 14 15]\n",
      "  [16 17 18 19]\n",
      "  [20 21 22 23]]]\n",
      "\n",
      "1. x[1] =\n",
      "[[12 13 14 15]\n",
      " [16 17 18 19]\n",
      " [20 21 22 23]]\n",
      "2. x[1,:,:] =\n",
      "[[12 13 14 15]\n",
      " [16 17 18 19]\n",
      " [20 21 22 23]]\n",
      "3. x[:,1,:] =\n",
      "[[ 4  5  6  7]\n",
      " [16 17 18 19]]\n",
      "4. x[:,1] =\n",
      "[[ 4  5  6  7]\n",
      " [16 17 18 19]]\n",
      "5. x[:,:,1] =\n",
      "[[ 1  5  9]\n",
      " [13 17 21]]\n",
      "6. x[:,:2,:] =\n",
      "[[[ 0  1  2  3]\n",
      "  [ 4  5  6  7]]\n",
      "\n",
      " [[12 13 14 15]\n",
      "  [16 17 18 19]]]\n",
      "7. x[:,:,::-1] =\n",
      "[[[ 3  2  1  0]\n",
      "  [ 7  6  5  4]\n",
      "  [11 10  9  8]]\n",
      "\n",
      " [[15 14 13 12]\n",
      "  [19 18 17 16]\n",
      "  [23 22 21 20]]]\n"
     ]
    }
   ],
   "source": [
    "x = np.arange(24)\n",
    "x = x.reshape(2,3,4)\n",
    "print(x)\n",
    "print()\n",
    "print(\"1. x[1] =\\n{}\".format(x[1]))\n",
    "print(\"2. x[1,:,:] =\\n{}\".format(x[1,:,:]))\n",
    "print(\"3. x[:,1,:] =\\n{}\".format(x[:,1,:]))\n",
    "print(\"4. x[:,1] =\\n{}\".format(x[:,1]))\n",
    "print(\"5. x[:,:,1] =\\n{}\".format(x[:,:,1]))\n",
    "print(\"6. x[:,:2,:] =\\n{}\".format(x[:,:2,:]))\n",
    "print(\"7. x[:,:,::-1] =\\n{}\".format(x[:,:,::-1]))"
   ]
  },
  {
   "cell_type": "markdown",
   "metadata": {},
   "source": [
    "Воспоминания о работе со случайными числами\n",
    "-------------------------------------------"
   ]
  },
  {
   "cell_type": "code",
   "execution_count": 23,
   "metadata": {},
   "outputs": [],
   "source": [
    "import numpy as np\n",
    "import numpy.random"
   ]
  },
  {
   "cell_type": "code",
   "execution_count": 24,
   "metadata": {},
   "outputs": [
    {
     "name": "stdout",
     "output_type": "stream",
     "text": [
      "(1000,)\n",
      "2.0193320558223253\n",
      "0.9579049897315172\n",
      "\n",
      "(1000, 2, 2)\n",
      "[[0.03976888 1.0091213 ]\n",
      " [1.95487634 3.00491107]]\n",
      "[[0.94479163 1.03251929]\n",
      " [1.00180757 1.02290195]]\n",
      "\n"
     ]
    },
    {
     "data": {
      "image/png": "[encoded data removed]",
      "text/plain": [
       "<Figure size 432x288 with 1 Axes>"
      ]
     },
     "metadata": {
      "needs_background": "light"
     },
     "output_type": "display_data"
    }
   ],
   "source": [
    "numpy.random.seed(42)\n",
    "\n",
    "x = numpy.random.normal(2.0, 1.0, 1000)\n",
    "print(x.shape)\n",
    "print(np.mean(x))\n",
    "print(np.var(x))\n",
    "print()\n",
    "\n",
    "x = numpy.random.normal(np.arange(4).reshape(2,2), 1.0, (1000,2,2))\n",
    "print(x.shape)\n",
    "print(np.mean(x, axis=0))\n",
    "print(np.var(x, axis=0))\n",
    "print()\n",
    "\n",
    "x = numpy.random.normal(3.0, 1.0, 10000)\n",
    "_ = plt.hist(x,25)"
   ]
  },
  {
   "cell_type": "code",
   "execution_count": 46,
   "metadata": {},
   "outputs": [
    {
     "name": "stdout",
     "output_type": "stream",
     "text": [
      "6.0041\n",
      "6.08188319\n"
     ]
    }
   ],
   "source": [
    "numpy.random.seed(42)\n",
    "\n",
    "x = numpy.random.poisson(6.0, 10000)\n",
    "print(np.mean(x))\n",
    "print(np.var(x))"
   ]
  },
  {
   "cell_type": "markdown",
   "metadata": {},
   "source": [
    "Метод наименьших квадратов\n",
    "=========================="
   ]
  },
  {
   "cell_type": "markdown",
   "metadata": {},
   "source": [
    "**Задание 1.1**\n",
    "\n",
    "Дан вектор `x` с равномерной сеткой значений от `0.0` до `10.0`, а так же константы `a` и `b`. В вектор `y` запишите реализацию случайного вектора удовлетворяющего следующему соотношению:\n",
    "\n",
    "$$y_i = a  x_i + b + \\epsilon_i,$$\n",
    "\n",
    "где $\\epsilon_i$ - независимые нормальные случайные величины с нулевым средним и стандартным отклонением $\\sigma=2$.\n",
    "\n",
    "Постройте график зависимости $y_i$ от $x_i$."
   ]
  },
  {
   "cell_type": "code",
   "execution_count": 28,
   "metadata": {},
   "outputs": [
    {
     "data": {
      "image/png": "[encoded data removed]",
      "text/plain": [
       "<Figure size 432x288 with 1 Axes>"
      ]
     },
     "metadata": {
      "needs_background": "light"
     },
     "output_type": "display_data"
    }
   ],
   "source": [
    "np.random.seed(42)\n",
    "\n",
    "x = np.linspace(0, 10, 50)\n",
    "a, b = 2.5, 5.25\n",
    "eps = np.random.normal(0, 2, x.shape)\n",
    "y = a * x + b + eps\n",
    "\n",
    "plt.scatter(x,y)\n",
    "plt.show()"
   ]
  },
  {
   "cell_type": "markdown",
   "metadata": {},
   "source": [
    "**Задание 1.2**\n",
    "\n",
    "Используя вектора `x` и `y` из предыдущего задания и формулы метода наименьших квадратов из лекций, найдите оценки констант `a` и `b` для линейной модели.\n",
    "\n",
    "Для этого используйте матричный формализм и векторные операции. Вычислите чему равна матрица задачи `A`. Для решения системы линейных алгебраических уравнений\n",
    "\n",
    "$$(A^T A)\\theta = A^T {\\bf y}$$\n",
    "\n",
    "используйте метод `np.linalg.solve`.\n",
    "Вычислите квадрат нормы вектора невязки используя метод `np.linalg.norm`. С его помощью вычислите ковариационную матрицу вектора параметров $\\theta$:\n",
    "\n",
    "$$\\Sigma = \\frac{(A^T A)^{-1} \\left|\\left|{\\bf y} - A{\\bf x}\\right|\\right|^2}{n -m},$$\n",
    "\n",
    "где $n$ - количество измерений, $m$ - количество параметров модели. Для обращения матрицы можно использовать метод `np.linalg.inv`.\n",
    "\n",
    "Нанесите на график данные и модельную прямую линию."
   ]
  },
  {
   "cell_type": "code",
   "execution_count": 29,
   "metadata": {},
   "outputs": [
    {
     "name": "stdout",
     "output_type": "stream",
     "text": [
      "a = 2.3840332010163547 +- 0.08903837899142662\n",
      "b = 5.378886184405947 +- 0.5166794360092011\n"
     ]
    },
    {
     "data": {
      "image/png": "[encoded data removed]",
      "text/plain": [
       "<Figure size 432x288 with 1 Axes>"
      ]
     },
     "metadata": {
      "needs_background": "light"
     },
     "output_type": "display_data"
    }
   ],
   "source": [
    "import numpy.linalg\n",
    "\n",
    "A = np.vstack([x, np.ones_like(x)]).T # матрица задачи\n",
    "theta = np.linalg.solve(A.T @ A, A.T @ y) # оценка векторов параметров\n",
    "res = np.linalg.norm(y - A @ theta)**2 # квадрат нормы вектора невызки\n",
    "theta_err = np.linalg.inv(A.T @ A) * res / (x.shape[0] - theta.shape[0]) # ковариационная матрица\n",
    "predicted = A @ theta# модельные значения y для сетки x\n",
    "\n",
    "\n",
    "plt.scatter(x,y)\n",
    "plt.plot(x, predicted, color='red')\n",
    "print(\"a = {} +- {}\".format(theta[0], np.sqrt(theta_err[0,0])))\n",
    "print(\"b = {} +- {}\".format(theta[1], np.sqrt(theta_err[1,1])))"
   ]
  },
  {
   "cell_type": "code",
   "execution_count": 30,
   "metadata": {},
   "outputs": [
    {
     "name": "stdout",
     "output_type": "stream",
     "text": [
      "[2.3840332  5.37888618]\n"
     ]
    }
   ],
   "source": [
    "theta, res, _, _ = np.linalg.lstsq(A, y, rcond=None)\n",
    "print(theta)"
   ]
  },
  {
   "cell_type": "code",
   "execution_count": 31,
   "metadata": {},
   "outputs": [
    {
     "name": "stdout",
     "output_type": "stream",
     "text": [
      "[2.3840332  5.37888618]\n"
     ]
    }
   ],
   "source": [
    "import scipy\n",
    "import scipy.linalg\n",
    "\n",
    "theta, res, _, _ = scipy.linalg.lstsq(A, y)\n",
    "print(theta)"
   ]
  },
  {
   "cell_type": "code",
   "execution_count": 54,
   "metadata": {},
   "outputs": [
    {
     "name": "stdout",
     "output_type": "stream",
     "text": [
      "[[2.3840332  5.37888618]]\n"
     ]
    },
    {
     "data": {
      "image/png": "[encoded data removed]",
      "text/plain": [
       "<Figure size 432x288 with 1 Axes>"
      ]
     },
     "metadata": {
      "needs_background": "light"
     },
     "output_type": "display_data"
    }
   ],
   "source": [
    "import sklearn\n",
    "import sklearn.linear_model\n",
    "\n",
    "r = sklearn.linear_model.LinearRegression()\n",
    "r.fit(x.reshape(-1,1), y.reshape(-1,1))\n",
    "predicted = r.predict(x.reshape(-1,1))\n",
    "plt.scatter(x,y)\n",
    "plt.plot(x, predicted, color='red')\n",
    "print(np.hstack([r.coef_,[r.intercept_,]]))"
   ]
  },
  {
   "cell_type": "code",
   "execution_count": 32,
   "metadata": {},
   "outputs": [
    {
     "name": "stdout",
     "output_type": "stream",
     "text": [
      "                            OLS Regression Results                            \n",
      "==============================================================================\n",
      "Dep. Variable:                      y   R-squared:                       0.937\n",
      "Model:                            OLS   Adj. R-squared:                  0.936\n",
      "Method:                 Least Squares   F-statistic:                     716.9\n",
      "Date:                Mon, 18 May 2020   Prob (F-statistic):           1.64e-30\n",
      "Time:                        02:17:08   Log-Likelihood:                -100.80\n",
      "No. Observations:                  50   AIC:                             205.6\n",
      "Df Residuals:                      48   BIC:                             209.4\n",
      "Df Model:                           1                                         \n",
      "Covariance Type:            nonrobust                                         \n",
      "==============================================================================\n",
      "                 coef    std err          t      P>|t|      [0.025      0.975]\n",
      "------------------------------------------------------------------------------\n",
      "const          5.3789      0.517     10.410      0.000       4.340       6.418\n",
      "x1             2.3840      0.089     26.775      0.000       2.205       2.563\n",
      "==============================================================================\n",
      "Omnibus:                        0.453   Durbin-Watson:                   1.942\n",
      "Prob(Omnibus):                  0.798   Jarque-Bera (JB):                0.608\n",
      "Skew:                           0.156   Prob(JB):                        0.738\n",
      "Kurtosis:                       2.559   Cond. No.                         11.7\n",
      "==============================================================================\n",
      "\n",
      "Warnings:\n",
      "[1] Standard Errors assume that the covariance matrix of the errors is correctly specified.\n"
     ]
    }
   ],
   "source": [
    "import statsmodels.api as sm\n",
    "\n",
    "mod = sm.OLS(y, sm.add_constant(x))\n",
    "res = mod.fit()\n",
    "print(res.summary())"
   ]
  },
  {
   "cell_type": "markdown",
   "metadata": {},
   "source": [
    "**Задание 1.3**\n",
    "\n",
    "В файле `glass.csv` хранится таблица в формате CSV, содержащая данные о химическом составе и показателе преломления $n$ нескольких марок стекла. Используя `pandas`, или любой удобный вам способ, загрузите эти данные и сформируйте массив `x` с \"фичами\" (содержанием каждого из девяти химических элементов в каждой марке стекла) и массив `y` содержащий значение показателя преломления $n$.\n",
    "\n",
    "За отстутсвием луших идей будем считать, что для описания зависимости $n$ от химического состава можно использовать линейную модель. С использованием метода `sklearn.model_selection.train_test_split` раделите данные на учебную и тестовую выборки. Используя класс `sklearn.linear_model.LinearRegression` постройте линейную модель для описания зависимости.\n",
    "Подсчитайте среднеквадратичное отклонение модели для тестовой выборки и распечатайте его.\n",
    "Постройте график зависимости истинного значения $n$ от предсказанного модельню значения $n$ для тестовой выборки."
   ]
  },
  {
   "cell_type": "code",
   "execution_count": 61,
   "metadata": {
    "scrolled": true
   },
   "outputs": [
    {
     "data": {
      "image/png": "[encoded data removed]",
      "text/plain": [
       "<Figure size 432x288 with 1 Axes>"
      ]
     },
     "metadata": {
      "needs_background": "light"
     },
     "output_type": "display_data"
    }
   ],
   "source": [
    "import pandas as pd\n",
    "from sklearn.model_selection import train_test_split\n",
    "from sklearn.metrics import mean_squared_error\n",
    "from sklearn.linear_model import LinearRegression\n",
    "\n",
    "names = (\"id\", \"n\", \"Na\", \"Mg\", \"Al\", \"Si\", \"K\", \"Ca\", \"Ba\", \"Fe\", \"Type\")\n",
    "data = pd.read_csv('glass.csv', header=None, names=names, index_col=0)\n",
    "\n",
    "x = data.drop(['n','Type'],axis=1)# фичи\n",
    "y = data.n# показатель преломления\n",
    "\n",
    "x_train, x_test, y_train, y_test = train_test_split(x, y, random_state=42)\n",
    "reg = sklearn.linear_model.LinearRegression().fit(x_train,y_train)\n",
    "\n",
    "mse_test = np.sqrt(reg.score(x_test, y_test)) # квадратный корень из среднего квадрата ошибки модели на тестовой выборке\n",
    "y_test_pred = reg.predict(x_test)\n",
    "plt.scatter(y_test, y_test_pred)\n",
    "plt.xlabel(\"True\")\n",
    "plt.ylabel(\"Predicted\")\n",
    "_ = plt.axis('equal')"
   ]
  },
  {
   "cell_type": "markdown",
   "metadata": {},
   "source": [
    "### Представление о плохо обусловленных и некорректных задачах"
   ]
  },
  {
   "cell_type": "markdown",
   "metadata": {},
   "source": [
    "$$\\alpha x^2 + \\beta y^2 = 1$$"
   ]
  },
  {
   "cell_type": "code",
   "execution_count": 62,
   "metadata": {},
   "outputs": [],
   "source": [
    "from matplotlib.patches import Ellipse\n",
    "\n",
    "def fit_ellipse(x, plot = False):\n",
    "    X = x**2\n",
    "    cond = numpy.linalg.cond(X)\n",
    "    \n",
    "    r = sklearn.linear_model.LinearRegression(fit_intercept=False)\n",
    "    r.fit(X, np.ones((x.shape[0],1)))\n",
    "    \n",
    "    theta = np.asarray(r.coef_).reshape(-1)\n",
    "    width, height = 2 * numpy.power(theta, np.full_like(theta, -0.5), out=np.full_like(theta, np.nan), where=theta>0)\n",
    "    \n",
    "    if plot:\n",
    "        ellipse = Ellipse((0, 0), width=width, height=height, fill=False, edgecolor='red')\n",
    "        plt.scatter(*x.T)\n",
    "        plt.xlim(-2.5,2.5)\n",
    "        plt.ylim(-2.5,2.5)\n",
    "        plt.axis('equal')\n",
    "        ax = plt.gca()\n",
    "        ax.add_patch(ellipse)\n",
    "    \n",
    "    return width, height, cond\n",
    "\n",
    "def generate_ellipse(phi, width, height, size):\n",
    "    x = np.vstack([width / 2 * np.cos(phi), height / 2 * np.sin(phi)]).T\n",
    "    X = x + np.random.normal(0.0, 0.0125, (size,*x.shape))\n",
    "    return X\n"
   ]
  },
  {
   "cell_type": "code",
   "execution_count": 63,
   "metadata": {},
   "outputs": [
    {
     "name": "stdout",
     "output_type": "stream",
     "text": [
      "[ 2.00105166  4.12506507 32.37966284]\n",
      "[0.01947085 3.94398107 2.74275001]\n"
     ]
    },
    {
     "data": {
      "image/png": "[encoded data removed]",
      "text/plain": [
       "<Figure size 432x288 with 1 Axes>"
      ]
     },
     "metadata": {
      "needs_background": "light"
     },
     "output_type": "display_data"
    }
   ],
   "source": [
    "numpy.random.seed(42)\n",
    "\n",
    "width = 2.0\n",
    "height = 4.0\n",
    "\n",
    "lim = 7.5 / 180.0 * np.pi\n",
    "phi = np.linspace(-lim,lim,4)\n",
    "X = generate_ellipse(phi, width, height, 1000)\n",
    "\n",
    "fit_ellipse(X[1], True)\n",
    "fit_ellipse(X[3], True)\n",
    "\n",
    "r = np.array([fit_ellipse(X[i]) for i in range(X.shape[0])])\n",
    "print(np.nanmean(r, axis=0))\n",
    "print(np.nanstd(r, axis=0))"
   ]
  },
  {
   "cell_type": "code",
   "execution_count": 64,
   "metadata": {},
   "outputs": [
    {
     "name": "stdout",
     "output_type": "stream",
     "text": [
      "[2.00065123 4.00095855 2.01048027]\n",
      "[0.0126622  0.02448717 0.03553913]\n"
     ]
    },
    {
     "data": {
      "image/png": "[encoded data removed]",
      "text/plain": [
       "<Figure size 432x288 with 1 Axes>"
      ]
     },
     "metadata": {
      "needs_background": "light"
     },
     "output_type": "display_data"
    }
   ],
   "source": [
    "lim = 7.5 / 180.0 * np.pi\n",
    "phi = np.linspace(-lim,lim,4)\n",
    "phi = np.concatenate([phi, [1.5,]])\n",
    "X = generate_ellipse(phi, width, height, 1000)\n",
    "\n",
    "fit_ellipse(X[1], True)\n",
    "fit_ellipse(X[3], True)\n",
    "\n",
    "r = np.array([fit_ellipse(X[i]) for i in range(X.shape[0])])\n",
    "print(np.nanmean(r, axis=0))\n",
    "print(np.nanstd(r, axis=0))"
   ]
  },
  {
   "cell_type": "markdown",
   "metadata": {},
   "source": [
    "### Представление о регуляризации"
   ]
  },
  {
   "cell_type": "markdown",
   "metadata": {},
   "source": [
    "Пусть нам кто-то сказал, что искомый эллипс очень похож на единичный круг:\n",
    "\n",
    "$$\\Delta \\alpha x^2 + \\Delta \\beta y^2 = 1 - x^2 - y^2,$$\n",
    "\n",
    "тогда $\\Delta \\alpha^2 + \\Delta \\beta^2 \\rightarrow 0$."
   ]
  },
  {
   "cell_type": "code",
   "execution_count": 65,
   "metadata": {},
   "outputs": [],
   "source": [
    "def fit_ellipse2(x, alpha, plot = False):\n",
    "    X = x**2\n",
    "    cond = numpy.linalg.cond(X)\n",
    "    y = (1.0 - np.sum(x**2, axis=1)).reshape(-1)\n",
    "\n",
    "    r = sklearn.linear_model.Ridge(fit_intercept=False, alpha=alpha)\n",
    "    r.fit(X, y)\n",
    "    \n",
    "    theta = np.asarray(r.coef_).reshape(-1)\n",
    "    width, height = 2 * numpy.power(theta + 1.0, np.full_like(theta, -0.5), out=np.full_like(theta, np.nan), where=theta>-1.0)\n",
    "    \n",
    "    if plot:\n",
    "        ellipse = Ellipse((0, 0), width=width, height=height, fill=False, edgecolor='red')\n",
    "        plt.scatter(*x.T)\n",
    "        plt.xlim(-2.5,2.5)\n",
    "        plt.ylim(-2.5,2.5)\n",
    "        plt.axis('equal')\n",
    "        ax = plt.gca()\n",
    "        ax.add_patch(ellipse)\n",
    "    \n",
    "    return width, height, cond"
   ]
  },
  {
   "cell_type": "code",
   "execution_count": 66,
   "metadata": {},
   "outputs": [
    {
     "name": "stdout",
     "output_type": "stream",
     "text": [
      "alpha = 1e-06\n",
      "[ 2.00144245  4.19286041 32.47302125]\n",
      "[0.0199414  3.89193205 2.72143771]\n",
      "\n",
      "alpha = 1e-05\n",
      "[ 2.00150972  4.16970552 32.47302125]\n",
      "[0.01991135 3.71611689 2.72143771]\n",
      "\n",
      "alpha = 0.0001\n",
      "[ 2.00216481  4.09433256 32.47302125]\n",
      "[0.01962069 3.4278821  2.72143771]\n",
      "\n",
      "alpha = 0.001\n",
      "[ 2.00733784  3.52731901 32.47302125]\n",
      "[0.01745657 2.26861673 2.72143771]\n",
      "\n",
      "alpha = 0.01\n",
      "[ 2.02187267  2.25122888 32.47302125]\n",
      "[0.01311972 0.16472543 2.72143771]\n",
      "\n",
      "alpha = 0.1\n",
      "[ 2.02806219  2.028152   32.47302125]\n",
      "[0.01231763 0.01557285 2.72143771]\n",
      "\n",
      "alpha = 1.0\n",
      "[ 2.02363515  2.00362008 32.47302125]\n",
      "[1.01168694e-02 1.63772425e-03 2.72143771e+00]\n",
      "\n",
      "alpha = 10.0\n",
      "[ 2.00832824  2.00058877 32.47302125]\n",
      "[3.60553512e-03 2.18853357e-04 2.72143771e+00]\n",
      "\n",
      "alpha = 100.0\n",
      "[ 2.00111263  2.00006971 32.47302125]\n",
      "[4.84796916e-04 2.55941607e-05 2.72143771e+00]\n",
      "\n",
      "alpha = 1000.0\n",
      "[ 2.00011513  2.00000712 32.47302125]\n",
      "[5.02097933e-05 2.61472022e-06 2.72143771e+00]\n",
      "\n"
     ]
    }
   ],
   "source": [
    "lim = 7.5 / 180.0 * np.pi\n",
    "phi = np.linspace(-lim,lim,4)\n",
    "X = generate_ellipse(phi, width, height, 1000)\n",
    "alpha = np.geomspace(1e-6, 1e+3, 10)\n",
    "\n",
    "for x in alpha:\n",
    "    r = np.array([fit_ellipse2(X[i], x) for i in range(X.shape[0])])\n",
    "    print(\"alpha = {}\".format(x))\n",
    "    print(np.nanmean(r, axis=0))\n",
    "    print(np.nanstd(r, axis=0))\n",
    "    print()"
   ]
  },
  {
   "cell_type": "markdown",
   "metadata": {},
   "source": [
    "**Задание 1.4** Логистическая регрессия.\n",
    "\n",
    "В файле `magic04.csv` в формате `CSV` хранятся предварительно обработанные измерения эксперимента по ловле космического излучения в земной атмосфере с помощью излучения Черенкова. Используя `pandas`, или любой удобный вам способ, загрузите эти данные и сформируйте массив `x` с \"фичами\" (все которые найдутся в файле: это характеристики изображений, оставляемых отдельными событиями, на панорамном приемнике, такие как его размер, эллиптичность, и прочее...), и массив `y`, содержащий текстовый признак частицы: `\"g\"` - гамма квант, `\"h\"` - адрон.\n",
    "\n",
    "Используя класс `sklearn.linear_model.LogisticRegression` постройте классификатор типа частицы по изображению с детектора.\n",
    "\n",
    "С помощью обученной модели проделайте следующее:\n",
    "* с помощью метода `sklearn.metrics.confusion_matrix` постройте матрицу ошибок (confusion matrix),\n",
    "* рассчитайте AUC и постройте график ROC. вам помогут методы `sklearn.metrics.roc_curve`, `sklearn.metrics.roc_auc_score`, и метод `decision_function` объекта модели."
   ]
  },
  {
   "cell_type": "code",
   "execution_count": 74,
   "metadata": {},
   "outputs": [
    {
     "name": "stdout",
     "output_type": "stream",
     "text": [
      "             width    size    conc   conc1      asym   m3long  m3trans  \\\n",
      "length                                                                   \n",
      "28.7967    16.0021  2.6449  0.3918  0.1982   27.7004  22.0110  -8.2027   \n",
      "31.6036    11.7235  2.5185  0.5303  0.3773   26.2722  23.8238  -9.9574   \n",
      "162.0520  136.0310  4.0612  0.0374  0.0187  116.7410 -64.8580 -45.2160   \n",
      "23.8172     9.5728  2.3385  0.6147  0.3922   27.2107  -6.4633  -7.1513   \n",
      "75.1362    30.9205  3.1611  0.3168  0.1832   -5.5277  28.5525  21.8393   \n",
      "\n",
      "            alpha      dist class  \n",
      "length                             \n",
      "28.7967   40.0920   81.8828     g  \n",
      "31.6036    6.3609  205.2610     g  \n",
      "162.0520  76.9600  256.7880     g  \n",
      "23.8172   10.4490  116.7370     g  \n",
      "75.1362    4.6480  356.4620     g  \n",
      "[[0.19768665 0.15205047]\n",
      " [0.07024185 0.58002103]]\n",
      "(array([0.        , 0.        , 0.        , ..., 0.90318701, 0.90318701,\n",
      "       1.        ]), array([0.00000000e+00, 3.23415265e-04, 1.61707633e-03, ...,\n",
      "       9.99676585e-01, 1.00000000e+00, 1.00000000e+00]), array([ 2.06337184,  1.06337184,  1.027322  , ...,  0.08990545,\n",
      "        0.08946649, -0.85196031]))\n"
     ]
    },
    {
     "data": {
      "text/plain": [
       "Text(0, 0.5, 'True positive rate')"
      ]
     },
     "execution_count": 74,
     "metadata": {},
     "output_type": "execute_result"
    },
    {
     "data": {
      "image/png": "[encoded data removed]",
      "text/plain": [
       "<Figure size 432x288 with 1 Axes>"
      ]
     },
     "metadata": {
      "needs_background": "light"
     },
     "output_type": "display_data"
    }
   ],
   "source": [
    "from sklearn.linear_model import LogisticRegression\n",
    "from sklearn.model_selection import train_test_split\n",
    "import sklearn.metrics\n",
    "import pandas as pd\n",
    "from sklearn.metrics import confusion_matrix\n",
    "\n",
    "names = [\"length\", \"width\", \"size\", \"conc\", \"conc1\", \"asym\", \"m3long\", \"m3trans\", \"alpha\", \"dist\", \"class\"]\n",
    "data = pd.read_csv('magic04.csv', header=None, names=names, index_col=0)\n",
    "print(data.head())\n",
    "\n",
    "x = data.drop(['class'],axis = 1) # фичи\n",
    "y = data['class'].apply(lambda x: x == 'g') # класс(тип частицы)\n",
    "\n",
    "x_train, x_test, y_train, y_test = train_test_split(x, y, random_state=42)\n",
    "r = LogisticRegression(solver='newton-cg')\n",
    "r.fit(x_train, y_train)\n",
    "\n",
    "y_test_predict = r.predict(x_test)\n",
    "print(confusion_matrix(y_test, y_test_predict)/y_test.shape[0])\n",
    "\n",
    "reg = sklearn.linear_model.LinearRegression().fit(x_train,y_train)\n",
    "#roc auc - home\n",
    "\n",
    "y_test_scores = reg.predict(x_test) # \n",
    "fpr, tpr, _ = sklearn.metrics.roc_curve(y_test, y_test_scores)\n",
    "auc = sklearn.metrics.roc_curve(y_test, y_test_scores) # AUC?\n",
    "print(auc)\n",
    "\n",
    "plt.plot(fpr, tpr)\n",
    "plt.xlabel(\"False positive rate\")\n",
    "plt.ylabel(\"True positive rate\")"
   ]
  },
  {
   "cell_type": "markdown",
   "metadata": {},
   "source": [
    "Метод максимального правдоподобия\n",
    "------------------------------------------------------------"
   ]
  },
  {
   "cell_type": "code",
   "execution_count": 75,
   "metadata": {},
   "outputs": [
    {
     "data": {
      "text/plain": [
       "(1.5048330139555812, 0.24468155193683858)"
      ]
     },
     "execution_count": 75,
     "metadata": {},
     "output_type": "execute_result"
    }
   ],
   "source": [
    "numpy.random.seed(42)\n",
    "x = numpy.random.normal(1.5, 0.25, 1000)\n",
    "\n",
    "mu_estimate = x.sum() / x.shape[0]\n",
    "sigma2_estimate = ((x - mu_estimate)**2).sum() / x.shape[0]\n",
    "\n",
    "mu_estimate, np.sqrt(sigma2_estimate)"
   ]
  },
  {
   "cell_type": "markdown",
   "metadata": {},
   "source": [
    "**Задание 1.5**\n",
    "\n",
    "По аналогии с предыдущей ячейкой, сгенерируйте вектор `x` из $1000$ реализаций случайной величины, распределенной согласно закону Пуассона с параметром $\\lambda = 2.45$.\n",
    "Используя формулу распределения Пуассона, а так же знания полученные на лекции, получите формулу оценки параметра $\\lambda$ для выборки независимых величин. Рассчитайте по этой формуле значение оценки $\\lambda$."
   ]
  },
  {
   "cell_type": "code",
   "execution_count": 76,
   "metadata": {},
   "outputs": [
    {
     "data": {
      "text/plain": [
       "2.457"
      ]
     },
     "execution_count": 76,
     "metadata": {},
     "output_type": "execute_result"
    }
   ],
   "source": [
    "numpy.random.seed(42)\n",
    "x = np.random.poisson(2.45, 1000) # выборка случайной величины\n",
    "\n",
    "lambda_estimate = x.sum() / x.shape[0] # оценка параметра\n",
    "\n",
    "lambda_estimate"
   ]
  },
  {
   "cell_type": "markdown",
   "metadata": {},
   "source": [
    "**Задание 1.6**\n",
    "\n",
    "Аналогично предыдущему заданию, сгенерируйте вектор `x` для лог-нормального распределения, с параметрами $\\mu=1.5$, $\\sigma=0.25$. Аналитически получите формулы оценок этих параметров по методу максимального правдоподобия, а затем проверьте себя вычислив числовые значения оценок параметров $\\mu$ и $\\sigma$."
   ]
  },
  {
   "cell_type": "code",
   "execution_count": 83,
   "metadata": {},
   "outputs": [
    {
     "data": {
      "text/plain": [
       "(1.5048330139555812, 0.24468155193683858)"
      ]
     },
     "execution_count": 83,
     "metadata": {},
     "output_type": "execute_result"
    }
   ],
   "source": [
    "numpy.random.seed(42)\n",
    "x = np.random.lognormal(1.5, 0.25, 1000) # выборка случайной величины\n",
    "\n",
    "mu_estimate = np.sum(np.log(x), axis=0) / x.shape[0] # оценки\n",
    "sigma2_estimate = ((np.log(x) - mu_estimate)**2).sum() / x.shape[0] # параметров\n",
    "\n",
    "mu_estimate, np.sqrt(sigma2_estimate)"
   ]
  },
  {
   "cell_type": "code",
   "execution_count": 84,
   "metadata": {},
   "outputs": [
    {
     "data": {
      "text/plain": [
       "(array([-0.05118903, -0.01089656]), array([[0.93859235, 0.67964775],\n",
       "        [0.67964775, 0.93525926]]))"
      ]
     },
     "execution_count": 84,
     "metadata": {},
     "output_type": "execute_result"
    },
    {
     "data": {
      "image/png": "[encoded data removed]",
      "text/plain": [
       "<Figure size 432x288 with 1 Axes>"
      ]
     },
     "metadata": {
      "needs_background": "light"
     },
     "output_type": "display_data"
    }
   ],
   "source": [
    "numpy.random.seed(42)\n",
    "x = np.random.multivariate_normal([0.0, 0.0], [[1.0, 0.75],[0.75, 1.0]], 1000)\n",
    "plt.plot(*x.T,'*')\n",
    "\n",
    "mu_estimate = np.sum(x, axis=0) / x.shape[0]\n",
    "dx = x - mu_estimate\n",
    "sigma_estimate = np.tensordot(dx, dx, [0, 0]) / x.shape[0]\n",
    "\n",
    "mu_estimate, sigma_estimate"
   ]
  },
  {
   "cell_type": "markdown",
   "metadata": {},
   "source": [
    "### Линейные модели авторегрессии скользящего среднего"
   ]
  },
  {
   "cell_type": "code",
   "execution_count": 85,
   "metadata": {},
   "outputs": [
    {
     "data": {
      "image/png": "[encoded data removed]",
      "text/plain": [
       "<Figure size 432x288 with 1 Axes>"
      ]
     },
     "metadata": {
      "needs_background": "light"
     },
     "output_type": "display_data"
    }
   ],
   "source": [
    "import statsmodels.api as sm\n",
    "from statsmodels import tsa\n",
    "from statsmodels.tsa.statespace import sarimax\n",
    "from statsmodels.graphics import tsaplots\n",
    "from statsmodels.graphics import gofplots\n",
    "from scipy.stats import boxcox\n",
    "\n",
    "data = pd.read_csv('sunspots.csv')\n",
    "x = np.asarray(data['YEAR']).reshape(-1,1)\n",
    "y = np.asarray(data['SUNACTIVITY']).reshape(-1,1)\n",
    "\n",
    "plt.plot(x, y)\n",
    "plt.xlabel(\"Year\")\n",
    "plt.ylabel(\"Activity index\")\n",
    "plt.title(\"Solar activity\")\n",
    "plt.tight_layout()"
   ]
  },
  {
   "cell_type": "code",
   "execution_count": 79,
   "metadata": {},
   "outputs": [
    {
     "data": {
      "text/plain": [
       "<Figure size 432x288 with 0 Axes>"
      ]
     },
     "metadata": {},
     "output_type": "display_data"
    },
    {
     "data": {
      "image/png": "[encoded data removed]",
      "text/plain": [
       "<Figure size 432x288 with 1 Axes>"
      ]
     },
     "metadata": {
      "needs_background": "light"
     },
     "output_type": "display_data"
    },
    {
     "data": {
      "text/plain": [
       "<Figure size 432x288 with 0 Axes>"
      ]
     },
     "metadata": {},
     "output_type": "display_data"
    },
    {
     "data": {
      "image/png": "[encoded data removed]",
      "text/plain": [
       "<Figure size 432x288 with 1 Axes>"
      ]
     },
     "metadata": {
      "needs_background": "light"
     },
     "output_type": "display_data"
    },
    {
     "data": {
      "text/plain": [
       "<Figure size 432x288 with 0 Axes>"
      ]
     },
     "metadata": {},
     "output_type": "display_data"
    },
    {
     "data": {
      "image/png": "[encoded data removed]",
      "text/plain": [
       "<Figure size 432x288 with 1 Axes>"
      ]
     },
     "metadata": {
      "needs_background": "light"
     },
     "output_type": "display_data"
    }
   ],
   "source": [
    "plt.figure()\n",
    "gofplots.qqplot(y.reshape(-1), fit=True, line='45')\n",
    "plt.axis('equal')\n",
    "\n",
    "plt.figure()\n",
    "y_log = boxcox(y+1, 0)\n",
    "gofplots.qqplot(y_log.reshape(-1), fit=True, line='45')\n",
    "_ = plt.axis('equal')\n",
    "\n",
    "plt.figure()\n",
    "y_1 = boxcox(y+1, 0.5)\n",
    "gofplots.qqplot(y_1.reshape(-1), fit=True, line='45')\n",
    "_ = plt.axis('equal')"
   ]
  },
  {
   "cell_type": "code",
   "execution_count": 86,
   "metadata": {},
   "outputs": [
    {
     "data": {
      "image/png": "[encoded data removed]",
      "text/plain": [
       "<Figure size 432x288 with 1 Axes>"
      ]
     },
     "metadata": {
      "needs_background": "light"
     },
     "output_type": "display_data"
    },
    {
     "data": {
      "image/png": "[encoded data removed]",
      "text/plain": [
       "<Figure size 432x288 with 1 Axes>"
      ]
     },
     "metadata": {
      "needs_background": "light"
     },
     "output_type": "display_data"
    }
   ],
   "source": [
    "tsaplots.plot_acf(y_log, lags=np.arange(50))\n",
    "_ = tsaplots.plot_pacf(y_log, lags=np.arange(50))"
   ]
  },
  {
   "cell_type": "code",
   "execution_count": 87,
   "metadata": {},
   "outputs": [
    {
     "ename": "AttributeError",
     "evalue": "module 'statsmodels.tsa.api' has no attribute 'arima'",
     "output_type": "error",
     "traceback": [
      "\u001b[1;31m---------------------------------------------------------------------------\u001b[0m",
      "\u001b[1;31mAttributeError\u001b[0m                            Traceback (most recent call last)",
      "\u001b[1;32m<ipython-input-87-a59a866a9b4c>\u001b[0m in \u001b[0;36m<module>\u001b[1;34m\u001b[0m\n\u001b[1;32m----> 1\u001b[1;33m \u001b[0marma_mod20\u001b[0m \u001b[1;33m=\u001b[0m \u001b[0msm\u001b[0m\u001b[1;33m.\u001b[0m\u001b[0mtsa\u001b[0m\u001b[1;33m.\u001b[0m\u001b[0marima\u001b[0m\u001b[1;33m.\u001b[0m\u001b[0mARIMA\u001b[0m\u001b[1;33m(\u001b[0m\u001b[0my_log\u001b[0m\u001b[1;33m,\u001b[0m \u001b[0morder\u001b[0m\u001b[1;33m=\u001b[0m\u001b[1;33m(\u001b[0m\u001b[1;36m2\u001b[0m\u001b[1;33m,\u001b[0m\u001b[1;36m0\u001b[0m\u001b[1;33m,\u001b[0m\u001b[1;36m0\u001b[0m\u001b[1;33m)\u001b[0m\u001b[1;33m)\u001b[0m\u001b[1;33m.\u001b[0m\u001b[0mfit\u001b[0m\u001b[1;33m(\u001b[0m\u001b[1;33m)\u001b[0m\u001b[1;33m\u001b[0m\u001b[1;33m\u001b[0m\u001b[0m\n\u001b[0m\u001b[0;32m      2\u001b[0m \u001b[0mprint\u001b[0m\u001b[1;33m(\u001b[0m\u001b[0marma_mod20\u001b[0m\u001b[1;33m.\u001b[0m\u001b[0msummary\u001b[0m\u001b[1;33m(\u001b[0m\u001b[1;33m)\u001b[0m\u001b[1;33m)\u001b[0m\u001b[1;33m\u001b[0m\u001b[1;33m\u001b[0m\u001b[0m\n\u001b[0;32m      3\u001b[0m \u001b[1;33m\u001b[0m\u001b[0m\n\u001b[0;32m      4\u001b[0m \u001b[0marma_mod30\u001b[0m \u001b[1;33m=\u001b[0m \u001b[0msm\u001b[0m\u001b[1;33m.\u001b[0m\u001b[0mtsa\u001b[0m\u001b[1;33m.\u001b[0m\u001b[0marima\u001b[0m\u001b[1;33m.\u001b[0m\u001b[0mARIMA\u001b[0m\u001b[1;33m(\u001b[0m\u001b[0my_log\u001b[0m\u001b[1;33m,\u001b[0m \u001b[0morder\u001b[0m\u001b[1;33m=\u001b[0m\u001b[1;33m(\u001b[0m\u001b[1;36m3\u001b[0m\u001b[1;33m,\u001b[0m\u001b[1;36m0\u001b[0m\u001b[1;33m,\u001b[0m\u001b[1;36m0\u001b[0m\u001b[1;33m)\u001b[0m\u001b[1;33m)\u001b[0m\u001b[1;33m.\u001b[0m\u001b[0mfit\u001b[0m\u001b[1;33m(\u001b[0m\u001b[1;33m)\u001b[0m\u001b[1;33m\u001b[0m\u001b[1;33m\u001b[0m\u001b[0m\n\u001b[0;32m      5\u001b[0m \u001b[0mprint\u001b[0m\u001b[1;33m(\u001b[0m\u001b[0marma_mod30\u001b[0m\u001b[1;33m.\u001b[0m\u001b[0msummary\u001b[0m\u001b[1;33m(\u001b[0m\u001b[1;33m)\u001b[0m\u001b[1;33m)\u001b[0m\u001b[1;33m\u001b[0m\u001b[1;33m\u001b[0m\u001b[0m\n",
      "\u001b[1;31mAttributeError\u001b[0m: module 'statsmodels.tsa.api' has no attribute 'arima'"
     ]
    }
   ],
   "source": [
    "arma_mod20 = sm.tsa.arima.ARIMA(y_log, order=(2,0,0)).fit()\n",
    "print(arma_mod20.summary())\n",
    "\n",
    "arma_mod30 = sm.tsa.arima.ARIMA(y_log, order=(3,0,0)).fit()\n",
    "print(arma_mod30.summary())\n",
    "\n",
    "arma_mods11 = sm.tsa.arima.ARIMA(y_log, order=(3,0,0), seasonal_order=(1,0,0,11)).fit()\n",
    "print(arma_mods11.summary())"
   ]
  },
  {
   "cell_type": "code",
   "execution_count": null,
   "metadata": {},
   "outputs": [],
   "source": [
    "plt.figure()\n",
    "tsaplots.plot_acf(arma_mod20.resid, lags=np.arange(50))\n",
    "\n",
    "plt.figure()\n",
    "_ = tsaplots.plot_acf(arma_mod30.resid, lags=np.arange(50))\n",
    "\n",
    "plt.figure()\n",
    "_ = tsaplots.plot_acf(arma_mods11.resid, lags=np.arange(50))"
   ]
  },
  {
   "cell_type": "code",
   "execution_count": null,
   "metadata": {},
   "outputs": [],
   "source": [
    "n_forecast = 40\n",
    "x_pred = np.arange(x[-1], x[-1] + n_forecast)\n",
    "y_pred_20 = arma_mod20.predict(len(x), len(x) + n_forecast - 1)\n",
    "y_pred_s = arma_mods11.predict(len(x), len(x) + n_forecast - 1)\n",
    "\n",
    "plt.plot(x, y_log)\n",
    "plt.plot(x_pred, y_pred_20)\n",
    "plt.plot(x_pred, y_pred_s)\n",
    "plt.xlabel(\"Year\")\n",
    "plt.ylabel(\"Activity index\")\n",
    "plt.title(\"Solar activity\")\n",
    "plt.tight_layout()\n",
    "plt.show()"
   ]
  },
  {
   "cell_type": "markdown",
   "metadata": {},
   "source": [
    "**Задание 1.7**\n",
    "\n",
    "Используя данные о солнечной активности из файла `sunspots.csv` (по аналогии с предыдущими ячейками), найдите наиболее подходящую модель семейства ARIMA, опираясь на принцип максимального правдоподобия при сравнении моделей.\n",
    "* Руководствуясь принципом простоты, количество параметров модели не должно превышать 12\n",
    "* Попробуйте применить различные преобразования из семейства Бокса-Кокса перед обучением модели\n",
    "\n",
    "Для найденной модели постройте график АКФ невязок, распечатайте `summary()`, и постройте график прогноза на ближайшие 40 точек в будущее.\n",
    "\n",
    "*Бонусные баллы* полагаются тому, кто найдет удовлетворяющую условиям модель с наибольшим правдоподобием среди всей группы."
   ]
  },
  {
   "cell_type": "markdown",
   "metadata": {},
   "source": [
    "### Гауссовы процессы"
   ]
  },
  {
   "cell_type": "markdown",
   "metadata": {},
   "source": [
    "**Задание 1.8**\n",
    "\n",
    "Ниже приведен пример кода использования гауссовых процессов для моделирования временных рядов. Используются всё те же данные солнечной активности. В этом задании можно получить *бонусные баллы*, для этого надо подобрать ядро преобразования `kernel` в примере таким образом, чтобы среднеквадратичная ошибка модели на тестовой выборке (посление 100 отсчетов по времени), стала лучше всех в группе."
   ]
  },
  {
   "cell_type": "code",
   "execution_count": null,
   "metadata": {},
   "outputs": [],
   "source": [
    "import pandas as pd\n",
    "from sklearn.gaussian_process import GaussianProcessRegressor\n",
    "from sklearn.gaussian_process.kernels import RBF, WhiteKernel, RationalQuadratic, ExpSineSquared\n",
    "\n",
    "data = pd.read_csv('sunspots.csv')\n",
    "x = np.asarray(data['YEAR']).reshape(-1,1)\n",
    "y = np.log(np.asarray(data['SUNACTIVITY']) + 1).reshape(-1,1)\n",
    "\n",
    "x_train = x[:-100]\n",
    "y_train = y[:-100]\n",
    "x_test = x[-100:]\n",
    "y_test = y[-100:]\n",
    "\n",
    "kernel = 1 * ExpSineSquared(length_scale=2, periodicity=22, periodicity_bounds=(20,25)) + WhiteKernel()\n",
    "gp = GaussianProcessRegressor(kernel=kernel, normalize_y=True)\n",
    "gp.fit(x_train, y_train)\n",
    "y_pred, y_std = gp.predict(x_test, return_std=True)\n",
    "y_pred_lo = y_pred.reshape(-1) - y_std\n",
    "y_pred_hi = y_pred.reshape(-1) + y_std\n",
    "\n",
    "print(\"Kernel: {}\".format(gp.kernel_))\n",
    "\n",
    "plt.plot(x, y)\n",
    "plt.plot(x_test, y_pred, color='red')\n",
    "plt.fill_between(x_test.reshape(-1), y_pred_lo, y_pred_hi, alpha=0.3, color='red')\n",
    "plt.xlabel(\"Year\")\n",
    "plt.ylabel(\"Activity index\")\n",
    "plt.title(\"Solar activity\")\n",
    "plt.tight_layout()\n",
    "plt.show()\n",
    "\n",
    "np.sqrt(mean_squared_error(y_test, y_pred))"
   ]
  },
  {
   "cell_type": "code",
   "execution_count": null,
   "metadata": {},
   "outputs": [],
   "source": [
    "x_train, x_test, y_train, y_test = train_test_split(x, y, random_state=42)\n",
    "\n",
    "kernel = 1 * RBF() + 1 * ExpSineSquared(periodicity=11) + WhiteKernel()\n",
    "gp = GaussianProcessRegressor(kernel=kernel, normalize_y=True)\n",
    "gp.fit(x_train, y_train)\n",
    "y_pred, y_std = gp.predict(x_test, return_std=True)\n",
    "y_pred_lo = y_pred.reshape(-1) - y_std\n",
    "y_pred_hi = y_pred.reshape(-1) + y_std\n",
    "\n",
    "print(\"Kernel: {}\".format(gp.kernel_))\n",
    "\n",
    "plt.plot(x, y, '-')\n",
    "plt.plot(x_test, y_pred, '*', color='red')\n",
    "plt.xlabel(\"Year\")\n",
    "plt.ylabel(\"Activity index\")\n",
    "plt.title(\"Solar activity\")\n",
    "plt.tight_layout()\n",
    "plt.show()\n",
    "\n",
    "np.sqrt(mean_squared_error(y_test, y_pred))"
   ]
  },
  {
   "cell_type": "markdown",
   "metadata": {},
   "source": [
    "**Задание 1.9**\n",
    "\n",
    "В файле `forestfires.csv` в формате CSV, находятся данные о лесных пожарах в некотором заповеднике.\n",
    "Ваша задача состоит в том, чтобы попробовать построить зависимость мощности пожара (выгоревшей площади `area`), от условной координаты парка (колонки `X` и `Y`).\n",
    "Неплохой идеей кажется использовать для моделирования двумерные гауссовы процессы, т.к. ожидается корреляция между соседними в пространстве областями.\n",
    "\n",
    "Загрузите данные из файла: в вектор `x` колоки `X` и `Y`, в вектор `y` загрузите величину $\\log(\\mathtt{\"area\"} + 1)$\n",
    "\n",
    "Используя класс `sklearn.gaussian_process.GaussianProcessRegressor`, постройте модель. Подберите ядро самостоятельно.\n",
    "\n",
    "*Бонусные баллы* полагаются за наилучшую модель. Эффективность модели измеряется среднеквадратичной ошибкой на тестовой выборке."
   ]
  },
  {
   "cell_type": "code",
   "execution_count": null,
   "metadata": {},
   "outputs": [],
   "source": [
    "x = # матрица из колонок X, Y\n",
    "y = # np.asarray(np.log(data['area'] + 1))\n",
    "\n",
    "np.sqrt(mean_squared_error(y_test, y_pred))"
   ]
  },
  {
   "cell_type": "code",
   "execution_count": null,
   "metadata": {},
   "outputs": [],
   "source": []
  }
 ],
 "metadata": {
  "kernelspec": {
   "display_name": "Python 3",
   "language": "python",
   "name": "python3"
  },
  "language_info": {
   "codemirror_mode": {
    "name": "ipython",
    "version": 3
   },
   "file_extension": ".py",
   "mimetype": "text/x-python",
   "name": "python",
   "nbconvert_exporter": "python",
   "pygments_lexer": "ipython3",
   "version": "3.7.4"
  }
 },
 "nbformat": 4,
 "nbformat_minor": 2
}
