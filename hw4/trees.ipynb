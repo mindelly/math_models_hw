{
  "nbformat": 4,
  "nbformat_minor": 0,
  "metadata": {
    "kernelspec": {
      "display_name": "Python 3",
      "language": "python",
      "name": "python3"
    },
    "language_info": {
      "codemirror_mode": {
        "name": "ipython",
        "version": 3
      },
      "file_extension": ".py",
      "mimetype": "text/x-python",
      "name": "python",
      "nbconvert_exporter": "python",
      "pygments_lexer": "ipython3",
      "version": "3.8.2"
    },
    "colab": {
      "name": "trees.ipynb",
      "provenance": [],
      "collapsed_sections": []
    },
    "accelerator": "GPU",
    "widgets": {
      "application/vnd.jupyter.widget-state+json": {
        "8d4b2a55768d463e9bbd5708b78a3829": {
          "model_module": "@jupyter-widgets/controls",
          "model_name": "HBoxModel",
          "state": {
            "_view_name": "HBoxView",
            "_dom_classes": [],
            "_model_name": "HBoxModel",
            "_view_module": "@jupyter-widgets/controls",
            "_model_module_version": "1.5.0",
            "_view_count": null,
            "_view_module_version": "1.5.0",
            "box_style": "",
            "layout": "IPY_MODEL_445281fd1bf242829347a3cd7945e6a9",
            "_model_module": "@jupyter-widgets/controls",
            "children": [
              "IPY_MODEL_56bc4e145c2a42768509bd70567050a9",
              "IPY_MODEL_a1d201faf519446d987c08590eeb5785"
            ]
          }
        },
        "445281fd1bf242829347a3cd7945e6a9": {
          "model_module": "@jupyter-widgets/base",
          "model_name": "LayoutModel",
          "state": {
            "_view_name": "LayoutView",
            "grid_template_rows": null,
            "right": null,
            "justify_content": null,
            "_view_module": "@jupyter-widgets/base",
            "overflow": null,
            "_model_module_version": "1.2.0",
            "_view_count": null,
            "flex_flow": null,
            "width": null,
            "min_width": null,
            "border": null,
            "align_items": null,
            "bottom": null,
            "_model_module": "@jupyter-widgets/base",
            "top": null,
            "grid_column": null,
            "overflow_y": null,
            "overflow_x": null,
            "grid_auto_flow": null,
            "grid_area": null,
            "grid_template_columns": null,
            "flex": null,
            "_model_name": "LayoutModel",
            "justify_items": null,
            "grid_row": null,
            "max_height": null,
            "align_content": null,
            "visibility": null,
            "align_self": null,
            "height": null,
            "min_height": null,
            "padding": null,
            "grid_auto_rows": null,
            "grid_gap": null,
            "max_width": null,
            "order": null,
            "_view_module_version": "1.2.0",
            "grid_template_areas": null,
            "object_position": null,
            "object_fit": null,
            "grid_auto_columns": null,
            "margin": null,
            "display": null,
            "left": null
          }
        },
        "56bc4e145c2a42768509bd70567050a9": {
          "model_module": "@jupyter-widgets/controls",
          "model_name": "FloatProgressModel",
          "state": {
            "_view_name": "ProgressView",
            "style": "IPY_MODEL_d2cdd094c8ab4f86be8e481b357890d4",
            "_dom_classes": [],
            "description": "100%",
            "_model_name": "FloatProgressModel",
            "bar_style": "success",
            "max": 14,
            "_view_module": "@jupyter-widgets/controls",
            "_model_module_version": "1.5.0",
            "value": 14,
            "_view_count": null,
            "_view_module_version": "1.5.0",
            "orientation": "horizontal",
            "min": 0,
            "description_tooltip": null,
            "_model_module": "@jupyter-widgets/controls",
            "layout": "IPY_MODEL_76a8aab90c4d42bb88caff0c5933f187"
          }
        },
        "a1d201faf519446d987c08590eeb5785": {
          "model_module": "@jupyter-widgets/controls",
          "model_name": "HTMLModel",
          "state": {
            "_view_name": "HTMLView",
            "style": "IPY_MODEL_8f1153b6b9dc4122957a49361a942eb8",
            "_dom_classes": [],
            "description": "",
            "_model_name": "HTMLModel",
            "placeholder": "​",
            "_view_module": "@jupyter-widgets/controls",
            "_model_module_version": "1.5.0",
            "value": " 14/14 [48:59&lt;00:00, 209.98s/it]",
            "_view_count": null,
            "_view_module_version": "1.5.0",
            "description_tooltip": null,
            "_model_module": "@jupyter-widgets/controls",
            "layout": "IPY_MODEL_a8b5b62f2e1349ada0e9607886670b0b"
          }
        },
        "d2cdd094c8ab4f86be8e481b357890d4": {
          "model_module": "@jupyter-widgets/controls",
          "model_name": "ProgressStyleModel",
          "state": {
            "_view_name": "StyleView",
            "_model_name": "ProgressStyleModel",
            "description_width": "initial",
            "_view_module": "@jupyter-widgets/base",
            "_model_module_version": "1.5.0",
            "_view_count": null,
            "_view_module_version": "1.2.0",
            "bar_color": null,
            "_model_module": "@jupyter-widgets/controls"
          }
        },
        "76a8aab90c4d42bb88caff0c5933f187": {
          "model_module": "@jupyter-widgets/base",
          "model_name": "LayoutModel",
          "state": {
            "_view_name": "LayoutView",
            "grid_template_rows": null,
            "right": null,
            "justify_content": null,
            "_view_module": "@jupyter-widgets/base",
            "overflow": null,
            "_model_module_version": "1.2.0",
            "_view_count": null,
            "flex_flow": null,
            "width": null,
            "min_width": null,
            "border": null,
            "align_items": null,
            "bottom": null,
            "_model_module": "@jupyter-widgets/base",
            "top": null,
            "grid_column": null,
            "overflow_y": null,
            "overflow_x": null,
            "grid_auto_flow": null,
            "grid_area": null,
            "grid_template_columns": null,
            "flex": null,
            "_model_name": "LayoutModel",
            "justify_items": null,
            "grid_row": null,
            "max_height": null,
            "align_content": null,
            "visibility": null,
            "align_self": null,
            "height": null,
            "min_height": null,
            "padding": null,
            "grid_auto_rows": null,
            "grid_gap": null,
            "max_width": null,
            "order": null,
            "_view_module_version": "1.2.0",
            "grid_template_areas": null,
            "object_position": null,
            "object_fit": null,
            "grid_auto_columns": null,
            "margin": null,
            "display": null,
            "left": null
          }
        },
        "8f1153b6b9dc4122957a49361a942eb8": {
          "model_module": "@jupyter-widgets/controls",
          "model_name": "DescriptionStyleModel",
          "state": {
            "_view_name": "StyleView",
            "_model_name": "DescriptionStyleModel",
            "description_width": "",
            "_view_module": "@jupyter-widgets/base",
            "_model_module_version": "1.5.0",
            "_view_count": null,
            "_view_module_version": "1.2.0",
            "_model_module": "@jupyter-widgets/controls"
          }
        },
        "a8b5b62f2e1349ada0e9607886670b0b": {
          "model_module": "@jupyter-widgets/base",
          "model_name": "LayoutModel",
          "state": {
            "_view_name": "LayoutView",
            "grid_template_rows": null,
            "right": null,
            "justify_content": null,
            "_view_module": "@jupyter-widgets/base",
            "overflow": null,
            "_model_module_version": "1.2.0",
            "_view_count": null,
            "flex_flow": null,
            "width": null,
            "min_width": null,
            "border": null,
            "align_items": null,
            "bottom": null,
            "_model_module": "@jupyter-widgets/base",
            "top": null,
            "grid_column": null,
            "overflow_y": null,
            "overflow_x": null,
            "grid_auto_flow": null,
            "grid_area": null,
            "grid_template_columns": null,
            "flex": null,
            "_model_name": "LayoutModel",
            "justify_items": null,
            "grid_row": null,
            "max_height": null,
            "align_content": null,
            "visibility": null,
            "align_self": null,
            "height": null,
            "min_height": null,
            "padding": null,
            "grid_auto_rows": null,
            "grid_gap": null,
            "max_width": null,
            "order": null,
            "_view_module_version": "1.2.0",
            "grid_template_areas": null,
            "object_position": null,
            "object_fit": null,
            "grid_auto_columns": null,
            "margin": null,
            "display": null,
            "left": null
          }
        },
        "68a4c0dea13a417bacf7e47b9e7b30b4": {
          "model_module": "@jupyter-widgets/controls",
          "model_name": "HBoxModel",
          "state": {
            "_view_name": "HBoxView",
            "_dom_classes": [],
            "_model_name": "HBoxModel",
            "_view_module": "@jupyter-widgets/controls",
            "_model_module_version": "1.5.0",
            "_view_count": null,
            "_view_module_version": "1.5.0",
            "box_style": "",
            "layout": "IPY_MODEL_75b084d05bc24c88a837c957a56a2e8d",
            "_model_module": "@jupyter-widgets/controls",
            "children": [
              "IPY_MODEL_6b075564d69f46198aeef5e8ce1ec39b",
              "IPY_MODEL_864a234c9f01420b83c71953699e1098"
            ]
          }
        },
        "75b084d05bc24c88a837c957a56a2e8d": {
          "model_module": "@jupyter-widgets/base",
          "model_name": "LayoutModel",
          "state": {
            "_view_name": "LayoutView",
            "grid_template_rows": null,
            "right": null,
            "justify_content": null,
            "_view_module": "@jupyter-widgets/base",
            "overflow": null,
            "_model_module_version": "1.2.0",
            "_view_count": null,
            "flex_flow": null,
            "width": null,
            "min_width": null,
            "border": null,
            "align_items": null,
            "bottom": null,
            "_model_module": "@jupyter-widgets/base",
            "top": null,
            "grid_column": null,
            "overflow_y": null,
            "overflow_x": null,
            "grid_auto_flow": null,
            "grid_area": null,
            "grid_template_columns": null,
            "flex": null,
            "_model_name": "LayoutModel",
            "justify_items": null,
            "grid_row": null,
            "max_height": null,
            "align_content": null,
            "visibility": null,
            "align_self": null,
            "height": null,
            "min_height": null,
            "padding": null,
            "grid_auto_rows": null,
            "grid_gap": null,
            "max_width": null,
            "order": null,
            "_view_module_version": "1.2.0",
            "grid_template_areas": null,
            "object_position": null,
            "object_fit": null,
            "grid_auto_columns": null,
            "margin": null,
            "display": null,
            "left": null
          }
        },
        "6b075564d69f46198aeef5e8ce1ec39b": {
          "model_module": "@jupyter-widgets/controls",
          "model_name": "FloatProgressModel",
          "state": {
            "_view_name": "ProgressView",
            "style": "IPY_MODEL_b4f28780ef21416ab7525bcf171d85b3",
            "_dom_classes": [],
            "description": "100%",
            "_model_name": "FloatProgressModel",
            "bar_style": "success",
            "max": 14,
            "_view_module": "@jupyter-widgets/controls",
            "_model_module_version": "1.5.0",
            "value": 14,
            "_view_count": null,
            "_view_module_version": "1.5.0",
            "orientation": "horizontal",
            "min": 0,
            "description_tooltip": null,
            "_model_module": "@jupyter-widgets/controls",
            "layout": "IPY_MODEL_8d04237ee8ea4394a2ab8662be0314d3"
          }
        },
        "864a234c9f01420b83c71953699e1098": {
          "model_module": "@jupyter-widgets/controls",
          "model_name": "HTMLModel",
          "state": {
            "_view_name": "HTMLView",
            "style": "IPY_MODEL_721ab77d3c8e4465818e8bff08147afd",
            "_dom_classes": [],
            "description": "",
            "_model_name": "HTMLModel",
            "placeholder": "​",
            "_view_module": "@jupyter-widgets/controls",
            "_model_module_version": "1.5.0",
            "value": " 14/14 [41:51&lt;00:00, 179.36s/it]",
            "_view_count": null,
            "_view_module_version": "1.5.0",
            "description_tooltip": null,
            "_model_module": "@jupyter-widgets/controls",
            "layout": "IPY_MODEL_8b2c660a56da42d1a970267e8de9e7ef"
          }
        },
        "b4f28780ef21416ab7525bcf171d85b3": {
          "model_module": "@jupyter-widgets/controls",
          "model_name": "ProgressStyleModel",
          "state": {
            "_view_name": "StyleView",
            "_model_name": "ProgressStyleModel",
            "description_width": "initial",
            "_view_module": "@jupyter-widgets/base",
            "_model_module_version": "1.5.0",
            "_view_count": null,
            "_view_module_version": "1.2.0",
            "bar_color": null,
            "_model_module": "@jupyter-widgets/controls"
          }
        },
        "8d04237ee8ea4394a2ab8662be0314d3": {
          "model_module": "@jupyter-widgets/base",
          "model_name": "LayoutModel",
          "state": {
            "_view_name": "LayoutView",
            "grid_template_rows": null,
            "right": null,
            "justify_content": null,
            "_view_module": "@jupyter-widgets/base",
            "overflow": null,
            "_model_module_version": "1.2.0",
            "_view_count": null,
            "flex_flow": null,
            "width": null,
            "min_width": null,
            "border": null,
            "align_items": null,
            "bottom": null,
            "_model_module": "@jupyter-widgets/base",
            "top": null,
            "grid_column": null,
            "overflow_y": null,
            "overflow_x": null,
            "grid_auto_flow": null,
            "grid_area": null,
            "grid_template_columns": null,
            "flex": null,
            "_model_name": "LayoutModel",
            "justify_items": null,
            "grid_row": null,
            "max_height": null,
            "align_content": null,
            "visibility": null,
            "align_self": null,
            "height": null,
            "min_height": null,
            "padding": null,
            "grid_auto_rows": null,
            "grid_gap": null,
            "max_width": null,
            "order": null,
            "_view_module_version": "1.2.0",
            "grid_template_areas": null,
            "object_position": null,
            "object_fit": null,
            "grid_auto_columns": null,
            "margin": null,
            "display": null,
            "left": null
          }
        },
        "721ab77d3c8e4465818e8bff08147afd": {
          "model_module": "@jupyter-widgets/controls",
          "model_name": "DescriptionStyleModel",
          "state": {
            "_view_name": "StyleView",
            "_model_name": "DescriptionStyleModel",
            "description_width": "",
            "_view_module": "@jupyter-widgets/base",
            "_model_module_version": "1.5.0",
            "_view_count": null,
            "_view_module_version": "1.2.0",
            "_model_module": "@jupyter-widgets/controls"
          }
        },
        "8b2c660a56da42d1a970267e8de9e7ef": {
          "model_module": "@jupyter-widgets/base",
          "model_name": "LayoutModel",
          "state": {
            "_view_name": "LayoutView",
            "grid_template_rows": null,
            "right": null,
            "justify_content": null,
            "_view_module": "@jupyter-widgets/base",
            "overflow": null,
            "_model_module_version": "1.2.0",
            "_view_count": null,
            "flex_flow": null,
            "width": null,
            "min_width": null,
            "border": null,
            "align_items": null,
            "bottom": null,
            "_model_module": "@jupyter-widgets/base",
            "top": null,
            "grid_column": null,
            "overflow_y": null,
            "overflow_x": null,
            "grid_auto_flow": null,
            "grid_area": null,
            "grid_template_columns": null,
            "flex": null,
            "_model_name": "LayoutModel",
            "justify_items": null,
            "grid_row": null,
            "max_height": null,
            "align_content": null,
            "visibility": null,
            "align_self": null,
            "height": null,
            "min_height": null,
            "padding": null,
            "grid_auto_rows": null,
            "grid_gap": null,
            "max_width": null,
            "order": null,
            "_view_module_version": "1.2.0",
            "grid_template_areas": null,
            "object_position": null,
            "object_fit": null,
            "grid_auto_columns": null,
            "margin": null,
            "display": null,
            "left": null
          }
        },
        "8f18a21058d4436b84ccfae98ab676e6": {
          "model_module": "@jupyter-widgets/controls",
          "model_name": "HBoxModel",
          "state": {
            "_view_name": "HBoxView",
            "_dom_classes": [],
            "_model_name": "HBoxModel",
            "_view_module": "@jupyter-widgets/controls",
            "_model_module_version": "1.5.0",
            "_view_count": null,
            "_view_module_version": "1.5.0",
            "box_style": "",
            "layout": "IPY_MODEL_dbeb1dfd94c94a6898d5acf35505db9a",
            "_model_module": "@jupyter-widgets/controls",
            "children": [
              "IPY_MODEL_2405faca70b842d4af0027572462c569",
              "IPY_MODEL_444ee9eadc2b4000894267aa4e8fa4fc"
            ]
          }
        },
        "dbeb1dfd94c94a6898d5acf35505db9a": {
          "model_module": "@jupyter-widgets/base",
          "model_name": "LayoutModel",
          "state": {
            "_view_name": "LayoutView",
            "grid_template_rows": null,
            "right": null,
            "justify_content": null,
            "_view_module": "@jupyter-widgets/base",
            "overflow": null,
            "_model_module_version": "1.2.0",
            "_view_count": null,
            "flex_flow": null,
            "width": null,
            "min_width": null,
            "border": null,
            "align_items": null,
            "bottom": null,
            "_model_module": "@jupyter-widgets/base",
            "top": null,
            "grid_column": null,
            "overflow_y": null,
            "overflow_x": null,
            "grid_auto_flow": null,
            "grid_area": null,
            "grid_template_columns": null,
            "flex": null,
            "_model_name": "LayoutModel",
            "justify_items": null,
            "grid_row": null,
            "max_height": null,
            "align_content": null,
            "visibility": null,
            "align_self": null,
            "height": null,
            "min_height": null,
            "padding": null,
            "grid_auto_rows": null,
            "grid_gap": null,
            "max_width": null,
            "order": null,
            "_view_module_version": "1.2.0",
            "grid_template_areas": null,
            "object_position": null,
            "object_fit": null,
            "grid_auto_columns": null,
            "margin": null,
            "display": null,
            "left": null
          }
        },
        "2405faca70b842d4af0027572462c569": {
          "model_module": "@jupyter-widgets/controls",
          "model_name": "FloatProgressModel",
          "state": {
            "_view_name": "ProgressView",
            "style": "IPY_MODEL_223644ff3aef4115a9f468d5a9e9b251",
            "_dom_classes": [],
            "description": "100%",
            "_model_name": "FloatProgressModel",
            "bar_style": "success",
            "max": 14,
            "_view_module": "@jupyter-widgets/controls",
            "_model_module_version": "1.5.0",
            "value": 14,
            "_view_count": null,
            "_view_module_version": "1.5.0",
            "orientation": "horizontal",
            "min": 0,
            "description_tooltip": null,
            "_model_module": "@jupyter-widgets/controls",
            "layout": "IPY_MODEL_d44b42809aa04754be6cd0f4cde5490f"
          }
        },
        "444ee9eadc2b4000894267aa4e8fa4fc": {
          "model_module": "@jupyter-widgets/controls",
          "model_name": "HTMLModel",
          "state": {
            "_view_name": "HTMLView",
            "style": "IPY_MODEL_58075c4050e845f9923cc0b586ec0ddc",
            "_dom_classes": [],
            "description": "",
            "_model_name": "HTMLModel",
            "placeholder": "​",
            "_view_module": "@jupyter-widgets/controls",
            "_model_module_version": "1.5.0",
            "value": " 14/14 [1:41:56&lt;00:00, 436.91s/it]",
            "_view_count": null,
            "_view_module_version": "1.5.0",
            "description_tooltip": null,
            "_model_module": "@jupyter-widgets/controls",
            "layout": "IPY_MODEL_0ae8669ee1d74cc8b2d4935d3c0aec20"
          }
        },
        "223644ff3aef4115a9f468d5a9e9b251": {
          "model_module": "@jupyter-widgets/controls",
          "model_name": "ProgressStyleModel",
          "state": {
            "_view_name": "StyleView",
            "_model_name": "ProgressStyleModel",
            "description_width": "initial",
            "_view_module": "@jupyter-widgets/base",
            "_model_module_version": "1.5.0",
            "_view_count": null,
            "_view_module_version": "1.2.0",
            "bar_color": null,
            "_model_module": "@jupyter-widgets/controls"
          }
        },
        "d44b42809aa04754be6cd0f4cde5490f": {
          "model_module": "@jupyter-widgets/base",
          "model_name": "LayoutModel",
          "state": {
            "_view_name": "LayoutView",
            "grid_template_rows": null,
            "right": null,
            "justify_content": null,
            "_view_module": "@jupyter-widgets/base",
            "overflow": null,
            "_model_module_version": "1.2.0",
            "_view_count": null,
            "flex_flow": null,
            "width": null,
            "min_width": null,
            "border": null,
            "align_items": null,
            "bottom": null,
            "_model_module": "@jupyter-widgets/base",
            "top": null,
            "grid_column": null,
            "overflow_y": null,
            "overflow_x": null,
            "grid_auto_flow": null,
            "grid_area": null,
            "grid_template_columns": null,
            "flex": null,
            "_model_name": "LayoutModel",
            "justify_items": null,
            "grid_row": null,
            "max_height": null,
            "align_content": null,
            "visibility": null,
            "align_self": null,
            "height": null,
            "min_height": null,
            "padding": null,
            "grid_auto_rows": null,
            "grid_gap": null,
            "max_width": null,
            "order": null,
            "_view_module_version": "1.2.0",
            "grid_template_areas": null,
            "object_position": null,
            "object_fit": null,
            "grid_auto_columns": null,
            "margin": null,
            "display": null,
            "left": null
          }
        },
        "58075c4050e845f9923cc0b586ec0ddc": {
          "model_module": "@jupyter-widgets/controls",
          "model_name": "DescriptionStyleModel",
          "state": {
            "_view_name": "StyleView",
            "_model_name": "DescriptionStyleModel",
            "description_width": "",
            "_view_module": "@jupyter-widgets/base",
            "_model_module_version": "1.5.0",
            "_view_count": null,
            "_view_module_version": "1.2.0",
            "_model_module": "@jupyter-widgets/controls"
          }
        },
        "0ae8669ee1d74cc8b2d4935d3c0aec20": {
          "model_module": "@jupyter-widgets/base",
          "model_name": "LayoutModel",
          "state": {
            "_view_name": "LayoutView",
            "grid_template_rows": null,
            "right": null,
            "justify_content": null,
            "_view_module": "@jupyter-widgets/base",
            "overflow": null,
            "_model_module_version": "1.2.0",
            "_view_count": null,
            "flex_flow": null,
            "width": null,
            "min_width": null,
            "border": null,
            "align_items": null,
            "bottom": null,
            "_model_module": "@jupyter-widgets/base",
            "top": null,
            "grid_column": null,
            "overflow_y": null,
            "overflow_x": null,
            "grid_auto_flow": null,
            "grid_area": null,
            "grid_template_columns": null,
            "flex": null,
            "_model_name": "LayoutModel",
            "justify_items": null,
            "grid_row": null,
            "max_height": null,
            "align_content": null,
            "visibility": null,
            "align_self": null,
            "height": null,
            "min_height": null,
            "padding": null,
            "grid_auto_rows": null,
            "grid_gap": null,
            "max_width": null,
            "order": null,
            "_view_module_version": "1.2.0",
            "grid_template_areas": null,
            "object_position": null,
            "object_fit": null,
            "grid_auto_columns": null,
            "margin": null,
            "display": null,
            "left": null
          }
        }
      }
    }
  },
  "cells": [
    {
      "cell_type": "code",
      "metadata": {
        "id": "GUmEWpouFGB6",
        "colab_type": "code",
        "colab": {}
      },
      "source": [
        "import numpy as np\n",
        "import matplotlib\n",
        "import matplotlib.pyplot as plt"
      ],
      "execution_count": 0,
      "outputs": []
    },
    {
      "cell_type": "code",
      "metadata": {
        "id": "yqb3fn0XFUI8",
        "colab_type": "code",
        "outputId": "d62ecf11-421e-431d-d0f1-2195dea61b1e",
        "colab": {
          "base_uri": "https://localhost:8080/",
          "height": 121
        }
      },
      "source": [
        "from google.colab import drive\n",
        "drive.mount('/content/drive')"
      ],
      "execution_count": 3,
      "outputs": [
        {
          "output_type": "stream",
          "text": [
            "Go to this URL in a browser: https://accounts.google.com/o/oauth2/auth?client_id=947318989803-6bn6qk8qdgf4n4g3pfee6491hc0brc4i.apps.googleusercontent.com&redirect_uri=urn%3aietf%3awg%3aoauth%3a2.0%3aoob&response_type=code&scope=email%20https%3a%2f%2fwww.googleapis.com%2fauth%2fdocs.test%20https%3a%2f%2fwww.googleapis.com%2fauth%2fdrive%20https%3a%2f%2fwww.googleapis.com%2fauth%2fdrive.photos.readonly%20https%3a%2f%2fwww.googleapis.com%2fauth%2fpeopleapi.readonly\n",
            "\n",
            "Enter your authorization code:\n",
            "··········\n",
            "Mounted at /content/drive\n"
          ],
          "name": "stdout"
        }
      ]
    },
    {
      "cell_type": "markdown",
      "metadata": {
        "id": "dxyJRtAPFGDA",
        "colab_type": "text"
      },
      "source": [
        "Деревья классификации\n",
        "--------------------------------------"
      ]
    },
    {
      "cell_type": "code",
      "metadata": {
        "id": "fXmQeD1fFGDP",
        "colab_type": "code",
        "outputId": "4db9605d-58bf-4223-a4ef-7cda39c0f77f",
        "colab": {
          "base_uri": "https://localhost:8080/",
          "height": 282
        }
      },
      "source": [
        "np.random.seed(43)\n",
        "\n",
        "n = 250\n",
        "\n",
        "mu1 = np.array([0.0,0])\n",
        "mu2 = np.array([1.0,0])\n",
        "sigma1 = 5.0 * np.diag(np.array([1.0, 1.0]))\n",
        "sigma2 = 0.5 * np.diag(np.array([1.0, 1.0]))\n",
        "\n",
        "x1 = np.random.multivariate_normal(mu1, sigma1, n)\n",
        "x2 = np.random.multivariate_normal(mu2, sigma2, n)\n",
        "x = np.vstack([x1, x2])\n",
        "y = np.concatenate([np.full(x1.shape[0], 0), np.full(x2.shape[0], 1)])\n",
        "\n",
        "plt.figure()\n",
        "plt.scatter(*x1.T,s=2.5)\n",
        "plt.scatter(*x2.T,s=2.5)"
      ],
      "execution_count": 4,
      "outputs": [
        {
          "output_type": "execute_result",
          "data": {
            "text/plain": [
              "<matplotlib.collections.PathCollection at 0x7f1e76d71358>"
            ]
          },
          "metadata": {
            "tags": []
          },
          "execution_count": 4
        },
        {
          "output_type": "display_data",
          "data": {
            "image/png": "[encoded data removed]",
            "text/plain": [
              "<Figure size 432x288 with 1 Axes>"
            ]
          },
          "metadata": {
            "tags": [],
            "needs_background": "light"
          }
        }
      ]
    },
    {
      "cell_type": "code",
      "metadata": {
        "id": "xdWgmKyIFGE0",
        "colab_type": "code",
        "colab": {}
      },
      "source": [
        "from sklearn.model_selection import train_test_split\n",
        "\n",
        "x_train, x_test, y_train, y_test = train_test_split(x, y, random_state=42)"
      ],
      "execution_count": 0,
      "outputs": []
    },
    {
      "cell_type": "code",
      "metadata": {
        "id": "rW_UU1zX_N44",
        "colab_type": "code",
        "colab": {}
      },
      "source": [
        ""
      ],
      "execution_count": 0,
      "outputs": []
    },
    {
      "cell_type": "code",
      "metadata": {
        "id": "BjD-xNNO4NIM",
        "colab_type": "code",
        "colab": {}
      },
      "source": [
        ""
      ],
      "execution_count": 0,
      "outputs": []
    },
    {
      "cell_type": "code",
      "metadata": {
        "id": "9fMVitaOFGFr",
        "colab_type": "code",
        "colab": {}
      },
      "source": [
        "def flat_dict(x):\n",
        "    if len(x) == 0:\n",
        "        return dict()\n",
        "    return {k: np.asarray([e[k] for e in x]) for k in x[0].keys()}"
      ],
      "execution_count": 0,
      "outputs": []
    },
    {
      "cell_type": "code",
      "metadata": {
        "id": "0ar1WbsMFGGf",
        "colab_type": "code",
        "colab": {}
      },
      "source": [
        "from sklearn.tree import DecisionTreeClassifier\n",
        "from sklearn.model_selection import cross_validate\n",
        "\n",
        "max_depths = np.arange(1, 2 * np.log2(n))\n",
        "\n",
        "scoring = {\n",
        "    \"auc\":       \"roc_auc\",\n",
        "    \"accuracy\":  \"accuracy\",\n",
        "}\n",
        "\n",
        "scores = []\n",
        "for max_depth in max_depths:\n",
        "    c = DecisionTreeClassifier(max_depth=max_depth)\n",
        "    s = cross_validate(c, x, y.reshape(-1), cv=5, scoring=scoring, return_train_score=True)\n",
        "    scores.append(s)"
      ],
      "execution_count": 0,
      "outputs": []
    },
    {
      "cell_type": "code",
      "metadata": {
        "id": "8oh2f9gLFGHd",
        "colab_type": "code",
        "colab": {}
      },
      "source": [
        "scores = flat_dict(scores)"
      ],
      "execution_count": 0,
      "outputs": []
    },
    {
      "cell_type": "code",
      "metadata": {
        "id": "1YnV_EzXFGIL",
        "colab_type": "code",
        "outputId": "2ab3e958-5280-47d3-e506-83233ac248b3",
        "colab": {
          "base_uri": "https://localhost:8080/",
          "height": 280
        }
      },
      "source": [
        "plt.plot(max_depths, scores['train_accuracy'].mean(axis=1), '-*', label=\"train accuracy\")\n",
        "plt.plot(max_depths, scores['test_accuracy'].mean(axis=1), '-*', label=\"test accuracy\")\n",
        "plt.xlabel(\"Tree max depth\")\n",
        "plt.ylabel(\"Accuracy\")\n",
        "_ = plt.legend()"
      ],
      "execution_count": 9,
      "outputs": [
        {
          "output_type": "display_data",
          "data": {
            "image/png": "[encoded data removed]",
            "text/plain": [
              "<Figure size 432x288 with 1 Axes>"
            ]
          },
          "metadata": {
            "tags": [],
            "needs_background": "light"
          }
        }
      ]
    },
    {
      "cell_type": "code",
      "metadata": {
        "scrolled": true,
        "id": "SNGmzF75FGJp",
        "colab_type": "code",
        "outputId": "8c1bb944-af5e-426c-cda3-f97ca8163493",
        "colab": {
          "base_uri": "https://localhost:8080/",
          "height": 286
        }
      },
      "source": [
        "x_grid = np.linspace(np.min(x), np.max(x), 2000)\n",
        "xx, yy = np.meshgrid(x_grid, x_grid)\n",
        "xx_test = np.stack((xx,yy), axis=-1).reshape(-1, 2)\n",
        "\n",
        "c = DecisionTreeClassifier(random_state=0, max_depth=15)\n",
        "\n",
        "c.fit(x_train, y_train)\n",
        "pred = c.predict(xx_test).reshape(xx.shape)\n",
        "\n",
        "x1_train = x_train[y_train == 0]\n",
        "x2_train = x_train[y_train == 1]\n",
        "\n",
        "plt.figure()\n",
        "plt.xlim(-2,3)\n",
        "plt.ylim(-2,3)\n",
        "plt.contourf(xx, yy, pred, cmap=\"pink_r\")\n",
        "plt.scatter(*x1_train.T,s=2.5)\n",
        "plt.scatter(*x2_train.T,s=2.5)"
      ],
      "execution_count": 10,
      "outputs": [
        {
          "output_type": "execute_result",
          "data": {
            "text/plain": [
              "<matplotlib.collections.PathCollection at 0x7f1e651e30f0>"
            ]
          },
          "metadata": {
            "tags": []
          },
          "execution_count": 10
        },
        {
          "output_type": "display_data",
          "data": {
            "image/png": "[encoded data removed]",
            "text/plain": [
              "<Figure size 432x288 with 1 Axes>"
            ]
          },
          "metadata": {
            "tags": [],
            "needs_background": "light"
          }
        }
      ]
    },
    {
      "cell_type": "code",
      "metadata": {
        "id": "PsarrJvyFGKt",
        "colab_type": "code",
        "colab": {}
      },
      "source": [
        "from sklearn.tree import DecisionTreeClassifier\n",
        "from sklearn.model_selection import cross_validate\n",
        "\n",
        "min_samples_leafs = np.arange(1, 20)\n",
        "\n",
        "scoring = {\n",
        "    \"auc\":       \"roc_auc\",\n",
        "    \"accuracy\":  \"accuracy\",\n",
        "}\n",
        "\n",
        "scores = []\n",
        "for min_samples_leaf in min_samples_leafs:\n",
        "    c = DecisionTreeClassifier(min_samples_leaf=min_samples_leaf)\n",
        "    s = cross_validate(c, x, y.reshape(-1), cv=5, scoring=scoring, return_train_score=True)\n",
        "    scores.append(s)"
      ],
      "execution_count": 0,
      "outputs": []
    },
    {
      "cell_type": "code",
      "metadata": {
        "id": "Kny-kbjtFGLy",
        "colab_type": "code",
        "colab": {}
      },
      "source": [
        "scores = flat_dict(scores)"
      ],
      "execution_count": 0,
      "outputs": []
    },
    {
      "cell_type": "code",
      "metadata": {
        "id": "2Figc7KpFGM1",
        "colab_type": "code",
        "outputId": "83364ccf-64cb-4f29-b552-d119892fa155",
        "colab": {
          "base_uri": "https://localhost:8080/",
          "height": 279
        }
      },
      "source": [
        "plt.plot(min_samples_leafs, scores['train_accuracy'].mean(axis=1), '-*', label=\"train accuracy\")\n",
        "plt.plot(min_samples_leafs, scores['test_accuracy'].mean(axis=1), '-*', label=\"test accuracy\")\n",
        "plt.xlabel(\"Leaf size\")\n",
        "plt.ylabel(\"Accuracy\")\n",
        "_ = plt.legend()"
      ],
      "execution_count": 13,
      "outputs": [
        {
          "output_type": "display_data",
          "data": {
            "image/png": "[encoded data removed]",
            "text/plain": [
              "<Figure size 432x288 with 1 Axes>"
            ]
          },
          "metadata": {
            "tags": [],
            "needs_background": "light"
          }
        }
      ]
    },
    {
      "cell_type": "code",
      "metadata": {
        "id": "2fwj41lAFGOG",
        "colab_type": "code",
        "colab": {}
      },
      "source": [
        "c = DecisionTreeClassifier(random_state=0)\n",
        "\n",
        "path = c.cost_complexity_pruning_path(x_train, y_train)\n",
        "ccp_alphas, impurities = path.ccp_alphas, path.impurities"
      ],
      "execution_count": 0,
      "outputs": []
    },
    {
      "cell_type": "code",
      "metadata": {
        "id": "ffTbwqTeFGPI",
        "colab_type": "code",
        "outputId": "267e365a-f298-4189-fb60-16d8c6559402",
        "colab": {
          "base_uri": "https://localhost:8080/",
          "height": 283
        }
      },
      "source": [
        "fig, ax = plt.subplots()\n",
        "ax.plot(ccp_alphas[:-1], impurities[:-1], marker='o', drawstyle=\"steps-post\")\n",
        "ax.set_xlabel(\"Effective alpha\")\n",
        "_ = ax.set_ylabel(\"Total impurity of leaves\")"
      ],
      "execution_count": 15,
      "outputs": [
        {
          "output_type": "display_data",
          "data": {
            "image/png": "[encoded data removed]",
            "text/plain": [
              "<Figure size 432x288 with 1 Axes>"
            ]
          },
          "metadata": {
            "tags": [],
            "needs_background": "light"
          }
        }
      ]
    },
    {
      "cell_type": "code",
      "metadata": {
        "id": "D7ycPCUnFGQe",
        "colab_type": "code",
        "colab": {}
      },
      "source": [
        "from sklearn.tree import DecisionTreeClassifier\n",
        "from sklearn.model_selection import cross_validate\n",
        "\n",
        "scoring = {\n",
        "    \"auc\":       \"roc_auc\",\n",
        "    \"accuracy\":  \"accuracy\",\n",
        "}\n",
        "\n",
        "scores = []\n",
        "for ccp_alpha in ccp_alphas:\n",
        "    c = DecisionTreeClassifier(ccp_alpha=ccp_alpha)\n",
        "    s = cross_validate(c, x, y.reshape(-1), cv=5, scoring=scoring, return_train_score=True)\n",
        "    scores.append(s)"
      ],
      "execution_count": 0,
      "outputs": []
    },
    {
      "cell_type": "code",
      "metadata": {
        "id": "DXMImQeRFGRc",
        "colab_type": "code",
        "colab": {}
      },
      "source": [
        "scores = flat_dict(scores)"
      ],
      "execution_count": 0,
      "outputs": []
    },
    {
      "cell_type": "code",
      "metadata": {
        "id": "GX28zNG8FGSY",
        "colab_type": "code",
        "outputId": "7421a29b-c36e-40c5-8bba-02551e0f940d",
        "colab": {
          "base_uri": "https://localhost:8080/",
          "height": 279
        }
      },
      "source": [
        "plt.plot(ccp_alphas, scores['train_accuracy'].mean(axis=1), '-*', label=\"train accuracy\")\n",
        "plt.plot(ccp_alphas, scores['test_accuracy'].mean(axis=1), '-*', label=\"test accuracy\")\n",
        "plt.xlabel(\"CCP alpha\")\n",
        "plt.ylabel(\"Accuracy\")\n",
        "_ = plt.legend()"
      ],
      "execution_count": 18,
      "outputs": [
        {
          "output_type": "display_data",
          "data": {
            "image/png": "[encoded data removed]",
            "text/plain": [
              "<Figure size 432x288 with 1 Axes>"
            ]
          },
          "metadata": {
            "tags": [],
            "needs_background": "light"
          }
        }
      ]
    },
    {
      "cell_type": "markdown",
      "metadata": {
        "id": "bH_RnQxFFGTd",
        "colab_type": "text"
      },
      "source": [
        "Деревья классификации своими руками\n",
        "-----------------------------------------------------"
      ]
    },
    {
      "cell_type": "code",
      "metadata": {
        "id": "c9OSLUXMFGTh",
        "colab_type": "code",
        "colab": {}
      },
      "source": [
        "from collections import namedtuple\n",
        "from scipy import optimize\n",
        "\n",
        "Leaf = namedtuple('Leaf', ('value', 'x', 'y'))\n",
        "Node = namedtuple('Node', ('feature', 'value', 'impurity', 'left', 'right',))\n",
        "\n",
        "class BaseDecisionTree:\n",
        "    def __init__(self, x, y, max_depth=np.inf):\n",
        "        self.x = np.atleast_2d(x)\n",
        "        self.y = np.atleast_1d(y)\n",
        "        self.max_depth = max_depth\n",
        "        \n",
        "        self.features = x.shape[1]\n",
        "        \n",
        "        self.root = self.build_tree(self.x, self.y)\n",
        "    \n",
        "    # Will fail in case of depth ~ 1000 because of limit of recursion calls\n",
        "    def build_tree(self, x, y, depth=1):\n",
        "        if depth > self.max_depth or self.criteria(y) < 1e-6:\n",
        "            return Leaf(self.leaf_value(y), x, y)\n",
        "        \n",
        "        feature, value, impurity = self.find_best_split(x, y)\n",
        "        \n",
        "        left_xy, right_xy = self.partition(x, y, feature, value)\n",
        "        left = self.build_tree(*left_xy, depth=depth + 1)\n",
        "        right = self.build_tree(*right_xy, depth=depth + 1)\n",
        "        \n",
        "        return Node(feature, value, impurity, left, right)\n",
        "    \n",
        "    def leaf_value(self, y):\n",
        "        raise NotImplementedError\n",
        "    \n",
        "    def partition(self, x, y, feature, value):\n",
        "        i = x[:, feature] >= value\n",
        "        j = np.logical_not(i)\n",
        "        return (x[j], y[j]), (x[i], y[i])\n",
        "    \n",
        "    def _impurity_partition(self, value, feature, x, y):\n",
        "        (_, left), (_, right) = self.partition(x, y, feature, value)\n",
        "        return self.impurity(left, right)\n",
        "    \n",
        "    def find_best_split(self, x, y):\n",
        "        best_feature, best_value, best_impurity = 0, x[0,0], np.inf\n",
        "        for feature in range(self.features):\n",
        "            if x.shape[0] > 2:\n",
        "                x_interval = np.sort(x[:,feature])\n",
        "                res = optimize.minimize_scalar(\n",
        "                    self._impurity_partition, \n",
        "                    args=(feature, x, y),\n",
        "                    bounds=(x_interval[1], x_interval[-1]),\n",
        "                    method='Bounded',\n",
        "                )\n",
        "                assert res.success\n",
        "                value = res.x\n",
        "                impurity = res.fun\n",
        "            else:\n",
        "                value = np.max(x[:,feature])\n",
        "                impurity = self._impurity_partition(value, feature, x, y)\n",
        "            if impurity < best_impurity:\n",
        "                best_feature, best_value, best_impurity = feature, value, impurity\n",
        "        return best_feature, best_value, best_impurity\n",
        "    \n",
        "    # Can be optimized for given .criteria()\n",
        "    def impurity(self, left, right):\n",
        "        h_l = self.criteria(left)\n",
        "        h_r = self.criteria(right)\n",
        "        return (left.size * h_l + right.size * h_r) / (left.size + right.size)\n",
        "    \n",
        "    def criteria(self, y):\n",
        "        raise NotImplementedError\n",
        "        \n",
        "    def predict(self, x):\n",
        "        x = np.atleast_2d(x)\n",
        "        y = np.empty(x.shape[0], dtype=self.y.dtype)\n",
        "        for i, row in enumerate(x):\n",
        "            node = self.root\n",
        "            while not isinstance(node, Leaf):\n",
        "                if row[node.feature] >= node.value:\n",
        "                    node = node.right\n",
        "                else:\n",
        "                    node = node.left\n",
        "            y[i] = node.value\n",
        "        return y"
      ],
      "execution_count": 0,
      "outputs": []
    },
    {
      "cell_type": "code",
      "metadata": {
        "id": "abAz6rXzFGUV",
        "colab_type": "code",
        "colab": {}
      },
      "source": [
        "class MyDecisionTreeClassifier(BaseDecisionTree):\n",
        "    def __init__(self, x, y, *args, random_state=None, **kwargs):\n",
        "        y = np.asarray(y, dtype=int)\n",
        "        self.random_state = np.random.RandomState(random_state)\n",
        "        self.classes = np.unique(y)\n",
        "        super().__init__(x, y, *args, **kwargs)\n",
        "        \n",
        "    def leaf_value(self, y):\n",
        "        class_counts = np.sum(y == self.classes.reshape(-1,1), axis=1)\n",
        "        m = np.max(class_counts)\n",
        "        most_common = self.classes[class_counts == m]\n",
        "        if most_common.size == 1:\n",
        "            return most_common[0]\n",
        "        return self.random_state.choice(most_common)\n",
        "    \n",
        "    def criteria(self, y):\n",
        "        \"\"\"Gini\"\"\"\n",
        "        p = np.sum(y == self.classes.reshape(-1,1), axis=1) / y.size\n",
        "        return np.sum(p * (1 - p))"
      ],
      "execution_count": 0,
      "outputs": []
    },
    {
      "cell_type": "code",
      "metadata": {
        "id": "RUI1XabAFGVi",
        "colab_type": "code",
        "colab": {}
      },
      "source": [
        ""
      ],
      "execution_count": 0,
      "outputs": []
    },
    {
      "cell_type": "code",
      "metadata": {
        "id": "GLl20rJZFGXQ",
        "colab_type": "code",
        "colab": {}
      },
      "source": [
        "c = MyDecisionTreeClassifier(x_train, y_train, max_depth=5, random_state=0)\n",
        "pred = c.predict(xx_test).reshape(xx.shape)"
      ],
      "execution_count": 0,
      "outputs": []
    },
    {
      "cell_type": "code",
      "metadata": {
        "id": "ocrkV1c9FGYZ",
        "colab_type": "code",
        "outputId": "aa360636-1d50-4099-edb7-5a3f99751c2c",
        "colab": {
          "base_uri": "https://localhost:8080/",
          "height": 286
        }
      },
      "source": [
        "x1_train = x_train[y_train == 0]\n",
        "x2_train = x_train[y_train == 1]\n",
        "\n",
        "plt.figure()\n",
        "plt.xlim(-2,3)\n",
        "plt.ylim(-2,3)\n",
        "plt.contourf(xx, yy, pred, cmap=\"pink_r\")\n",
        "plt.scatter(*x1_train.T,s=2.5)\n",
        "plt.scatter(*x2_train.T,s=2.5)"
      ],
      "execution_count": 22,
      "outputs": [
        {
          "output_type": "execute_result",
          "data": {
            "text/plain": [
              "<matplotlib.collections.PathCollection at 0x7f1e64e1b390>"
            ]
          },
          "metadata": {
            "tags": []
          },
          "execution_count": 22
        },
        {
          "output_type": "display_data",
          "data": {
            "image/png": "[encoded data removed]",
            "text/plain": [
              "<Figure size 432x288 with 1 Axes>"
            ]
          },
          "metadata": {
            "tags": [],
            "needs_background": "light"
          }
        }
      ]
    },
    {
      "cell_type": "markdown",
      "metadata": {
        "id": "Gm9z2FlfFGZz",
        "colab_type": "text"
      },
      "source": [
        "**Задание 4.1** Перед вами класс `BaseDecisionTree`. Используйте класс `MyDecisionTreeClassifier` в качестве примера, чтобы самостоятельно сделать простое дерево регрессии `MyDecisionTreeRegressor`.\n",
        "\n",
        "Для задачи регрессии в качестве значения листа уместно взять среднее арифметическое значений всех точек содержащихся в узле, в качестве критерия - среднеквадратичное отклонение.\n",
        "\n",
        "Используя синтетический пример с зависимостью (приведен ниже)\n",
        "$$y = 2 x + 1 + \\epsilon$$\n",
        "удебитесь в работоспособности дерева регрессии, подберите наилучший параметр `max_depth`.\n",
        "\n",
        "*Бонусные баллы* можно получить если реализовать функцию `impurity` более эффективно, упростив формулы для случая регрессии."
      ]
    },
    {
      "cell_type": "code",
      "metadata": {
        "id": "Krtbpvt8FGZ5",
        "colab_type": "code",
        "colab": {}
      },
      "source": [
        "\n",
        "class MyDecisionTreeRegressor(BaseDecisionTree):\n",
        "    def __init__(self, x, y, *args, random_state=None, **kwargs):\n",
        "        y = np.asarray(y)\n",
        "        self.random_state = np.random.RandomState(random_state)\n",
        "        self.classes = np.unique(y)\n",
        "        super().__init__(x, y, *args, **kwargs)\n",
        "        \n",
        "    def leaf_value(self, y):\n",
        "        return np.mean(y)\n",
        "    \n",
        "    def criteria(self, y):\n",
        "        pp = np.sum(y) / y.size\n",
        "        return np.sum((y - pp)**2) / y.size \n"
      ],
      "execution_count": 0,
      "outputs": []
    },
    {
      "cell_type": "code",
      "metadata": {
        "id": "iG6g0EPOFGa4",
        "colab_type": "code",
        "colab": {
          "base_uri": "https://localhost:8080/",
          "height": 313
        },
        "outputId": "ffe6964a-5ec9-4f3e-b803-688f5f82163a"
      },
      "source": [
        "from sklearn.metrics import mean_squared_error\n",
        "\n",
        "np.random.seed(42)\n",
        "\n",
        "n = 250\n",
        "x = np.random.uniform(0, 1, size=(n, 1))\n",
        "y = 2 * x[:, 0] + 1\n",
        "y = y + np.random.normal(0, 0.1, size=y.shape)\n",
        "\n",
        "x_train, x_test, y_train, y_test = train_test_split(x, y, random_state=42)\n",
        "\n",
        "dtr = MyDecisionTreeRegressor(x_train, y_train, max_depth=11, random_state=0)\n",
        "\n",
        "plt.xlabel('true')\n",
        "plt.ylabel('predicted')\n",
        "plt.plot(y_train, dtr.predict(x_train), 'o', label='train')\n",
        "plt.plot(y_test, dtr.predict(x_test), 'o', label='test')\n",
        "plt.legend()\n",
        "\n",
        "train_score = mean_squared_error(y_train, dtr.predict(x_train))\n",
        "test_score = mean_squared_error(y_test, dtr.predict(x_test))\n",
        "\n",
        "print(\"train score = {:.4f}\".format(train_score))\n",
        "print(\"test score = {:.4f}\".format(test_score))"
      ],
      "execution_count": 24,
      "outputs": [
        {
          "output_type": "stream",
          "text": [
            "train score = 0.0000\n",
            "test score = 0.0205\n"
          ],
          "name": "stdout"
        },
        {
          "output_type": "display_data",
          "data": {
            "image/png": "[encoded data removed]",
            "text/plain": [
              "<Figure size 432x288 with 1 Axes>"
            ]
          },
          "metadata": {
            "tags": [],
            "needs_background": "light"
          }
        }
      ]
    },
    {
      "cell_type": "markdown",
      "metadata": {
        "id": "ElExGZd7FGcN",
        "colab_type": "text"
      },
      "source": [
        "Случайный лес\n",
        "------------------------"
      ]
    },
    {
      "cell_type": "code",
      "metadata": {
        "id": "3FBhLdGAFGcU",
        "colab_type": "code",
        "outputId": "f0295533-8b1b-4c14-ef53-764f93630f9f",
        "colab": {
          "base_uri": "https://localhost:8080/",
          "height": 282
        }
      },
      "source": [
        "np.random.seed(43)\n",
        "\n",
        "n = 250\n",
        "\n",
        "mu1 = np.array([0.0,0])\n",
        "mu2 = np.array([1.0,0])\n",
        "sigma1 = 5.0 * np.diag(np.array([1.0, 1.0]))\n",
        "sigma2 = 0.5 * np.diag(np.array([1.0, 1.0]))\n",
        "\n",
        "x1 = np.random.multivariate_normal(mu1, sigma1, n)\n",
        "x2 = np.random.multivariate_normal(mu2, sigma2, n)\n",
        "x = np.vstack([x1, x2])\n",
        "y = np.concatenate([np.full(x1.shape[0], 0), np.full(x2.shape[0], 1)])\n",
        "\n",
        "plt.figure()\n",
        "plt.scatter(*x1.T,s=2.5)\n",
        "plt.scatter(*x2.T,s=2.5)"
      ],
      "execution_count": 25,
      "outputs": [
        {
          "output_type": "execute_result",
          "data": {
            "text/plain": [
              "<matplotlib.collections.PathCollection at 0x7f1e64d77a90>"
            ]
          },
          "metadata": {
            "tags": []
          },
          "execution_count": 25
        },
        {
          "output_type": "display_data",
          "data": {
            "image/png": "[encoded data removed]",
            "text/plain": [
              "<Figure size 432x288 with 1 Axes>"
            ]
          },
          "metadata": {
            "tags": [],
            "needs_background": "light"
          }
        }
      ]
    },
    {
      "cell_type": "code",
      "metadata": {
        "id": "fPYHsWw1FGdJ",
        "colab_type": "code",
        "colab": {}
      },
      "source": [
        "from sklearn.model_selection import train_test_split\n",
        "\n",
        "x_train, x_test, y_train, y_test = train_test_split(x, y, random_state=42)"
      ],
      "execution_count": 0,
      "outputs": []
    },
    {
      "cell_type": "code",
      "metadata": {
        "id": "bsNOLhpC8R_B",
        "colab_type": "code",
        "colab": {}
      },
      "source": [
        ""
      ],
      "execution_count": 0,
      "outputs": []
    },
    {
      "cell_type": "code",
      "metadata": {
        "id": "V9gG7LlWFGfK",
        "colab_type": "code",
        "outputId": "9d30bd28-8d36-4102-9807-90747683293b",
        "colab": {
          "base_uri": "https://localhost:8080/",
          "height": 286
        }
      },
      "source": [
        "from sklearn.ensemble import RandomForestClassifier\n",
        "from sklearn.model_selection import cross_validate\n",
        "\n",
        "c = RandomForestClassifier(random_state=0, max_depth=15)\n",
        "\n",
        "c.fit(x_train, y_train)\n",
        "pred = c.predict(xx_test).reshape(xx.shape)\n",
        "\n",
        "x1_train = x_train[y_train == 0]\n",
        "x2_train = x_train[y_train == 1]\n",
        "\n",
        "plt.figure()\n",
        "plt.xlim(-2,3)\n",
        "plt.ylim(-2,3)\n",
        "plt.contourf(xx, yy, pred, cmap=\"pink_r\")\n",
        "plt.scatter(*x1_train.T,s=2.5)\n",
        "plt.scatter(*x2_train.T,s=2.5)"
      ],
      "execution_count": 27,
      "outputs": [
        {
          "output_type": "execute_result",
          "data": {
            "text/plain": [
              "<matplotlib.collections.PathCollection at 0x7f1e649e4f98>"
            ]
          },
          "metadata": {
            "tags": []
          },
          "execution_count": 27
        },
        {
          "output_type": "display_data",
          "data": {
            "image/png": "[encoded data removed]",
            "text/plain": [
              "<Figure size 432x288 with 1 Axes>"
            ]
          },
          "metadata": {
            "tags": [],
            "needs_background": "light"
          }
        }
      ]
    },
    {
      "cell_type": "markdown",
      "metadata": {
        "id": "-HOznw9hFGgM",
        "colab_type": "text"
      },
      "source": [
        "**Задание 4.2** Используйте готовый класс `RandomForestClassifier` чтобы проверить как работает классификация с помощью метода случайного леса. С помощью метода кросс-валидации получите и постройте на графике зависимость точности (accuracy) (для учебного и тестового множеств) от максимальной глубины деревьев случайного леса. Используйте данные из примера про дерево классификации."
      ]
    },
    {
      "cell_type": "code",
      "metadata": {
        "id": "msarg85dFGgQ",
        "colab_type": "code",
        "colab": {}
      },
      "source": [
        "from sklearn.ensemble import RandomForestClassifier\n",
        "from sklearn.model_selection import cross_validate\n",
        "\n",
        "max_depths = np.arange(1, 2 * np.log2(n))\n",
        "\n",
        "scoring = {\n",
        "    \"auc\":       \"roc_auc\",\n",
        "    \"accuracy\":  \"accuracy\",\n",
        "}\n",
        "\n",
        "scores = []\n",
        "for max_depth in max_depths:\n",
        "    c = RandomForestClassifier(max_depth=max_depth)\n",
        "    s = cross_validate(c, x, y.reshape(-1), cv=5, scoring=scoring, return_train_score=True)\n",
        "    scores.append(s)"
      ],
      "execution_count": 0,
      "outputs": []
    },
    {
      "cell_type": "code",
      "metadata": {
        "id": "-6tOb7wiFGhX",
        "colab_type": "code",
        "colab": {}
      },
      "source": [
        "scores = flat_dict(scores)"
      ],
      "execution_count": 0,
      "outputs": []
    },
    {
      "cell_type": "code",
      "metadata": {
        "id": "IVAvCFDlFGjr",
        "colab_type": "code",
        "outputId": "6fbe4ae3-a199-4675-e0c3-5468c2653b32",
        "colab": {
          "base_uri": "https://localhost:8080/",
          "height": 279
        }
      },
      "source": [
        "plt.plot(max_depths, scores['train_accuracy'].mean(axis=1), '-*', label=\"train accuracy\")\n",
        "plt.plot(max_depths, scores['test_accuracy'].mean(axis=1), '-*', label=\"test accuracy\")\n",
        "plt.xlabel(\"Tree max depth\")\n",
        "plt.ylabel(\"Accuracy\")\n",
        "_ = plt.legend()"
      ],
      "execution_count": 30,
      "outputs": [
        {
          "output_type": "display_data",
          "data": {
            "image/png": "[encoded data removed]",
            "text/plain": [
              "<Figure size 432x288 with 1 Axes>"
            ]
          },
          "metadata": {
            "tags": [],
            "needs_background": "light"
          }
        }
      ]
    },
    {
      "cell_type": "code",
      "metadata": {
        "id": "MVTAk1z1FGkK",
        "colab_type": "code",
        "colab": {}
      },
      "source": [
        "import sklearn.metrics\n",
        "\n",
        "def evaluate(c, x, y):\n",
        "    y_pred = c.predict(x)\n",
        "    if getattr(c, \"decision_function\", None):\n",
        "        scores = c.decision_function(x)\n",
        "    else:\n",
        "        scores = c.predict_proba(x)[:,1]\n",
        "\n",
        "    tn, fp, fn, tp = sklearn.metrics.confusion_matrix(y, y_pred, labels=['h', 'g']).ravel()\n",
        "    accuracy  = (tp + tn) / (tn + fp + fn + tp)\n",
        "    precision = tp / (tp + fp)\n",
        "    recall    = tp / (tp + fn)\n",
        "    specificity = tn / (tn + fp)\n",
        "    baccuracy = 0.5 * (specificity + recall)\n",
        "    f1 = 2 * precision * recall / (precision + recall)\n",
        "    \n",
        "    print(\"Accuracy                  = {:.4f}\".format(accuracy))\n",
        "    print(\"Ballanced accuracy        = {:.4f}\".format(baccuracy))\n",
        "    print(\"F1                        = {:.4f}\".format(f1))\n",
        "    print(\"Precision (PPV)           = {:.4f}\".format(precision))\n",
        "    print(\"Recall (sensitivity, TPR) = {:.4f}\".format(recall))\n",
        "    print(\"Specificity (TNR, 1-FPR)  = {:.4f}\".format(specificity))\n",
        "    \n",
        "    min_score, max_score = np.min(scores), np.max(scores)\n",
        "    bins = np.linspace(min_score, max_score, 25)\n",
        "    plt.figure()\n",
        "    plt.hist(scores[y.reshape(-1) == 'h'], bins, alpha=0.5, label='Hadron (negative)')\n",
        "    plt.hist(scores[y.reshape(-1) == 'g'], bins, alpha=0.5, label='Gamma (positive)')\n",
        "    plt.xlabel(\"Decision function (value)\")\n",
        "    plt.ylabel(\"Frequency\")\n",
        "    plt.legend()\n",
        "    \n",
        "    tpr, fpr, _ = sklearn.metrics.roc_curve(y, scores, pos_label='g')\n",
        "    auc = sklearn.metrics.roc_auc_score(y, scores)\n",
        "    plt.figure()\n",
        "    plt.plot(fpr, tpr)\n",
        "    plt.title(\"Receiver operating characteristic\")\n",
        "    plt.xlabel(\"False positive rate\")\n",
        "    plt.ylabel(\"True positive rate\")\n",
        "    print(\"AUC                       = {:.4f}\".format(auc))"
      ],
      "execution_count": 0,
      "outputs": []
    },
    {
      "cell_type": "code",
      "metadata": {
        "id": "60srEOiwFGkv",
        "colab_type": "code",
        "colab": {}
      },
      "source": [
        "import numpy as np\n",
        "import pandas as pd\n",
        "from sklearn.model_selection import train_test_split\n",
        "\n",
        "names = [\"length\", \"width\", \"size\", \"conc\", \"conc1\", \"asym\", \"m3long\", \"m3trans\", \"alpha\", \"dist\", \"class\"]\n",
        "data = pd.read_csv('/content/drive/My Drive/2020-hw4-mindelly/magic04.csv', names=names)\n",
        "\n",
        "x = np.asarray(data.iloc[:, :-1])\n",
        "y = np.asarray(data.iloc[:, [-1]])\n",
        "\n",
        "x_train, x_test, y_train, y_test = train_test_split(x, y, random_state=42)"
      ],
      "execution_count": 0,
      "outputs": []
    },
    {
      "cell_type": "code",
      "metadata": {
        "scrolled": true,
        "id": "ozZPzmVMFGlE",
        "colab_type": "code",
        "outputId": "242b0fe9-6b05-4970-ef03-cbeab89d2e83",
        "colab": {
          "base_uri": "https://localhost:8080/",
          "height": 674
        }
      },
      "source": [
        "from sklearn.ensemble import RandomForestClassifier\n",
        "\n",
        "c = RandomForestClassifier(random_state=0)\n",
        "\n",
        "c.fit(x_train, y_train.reshape(-1))\n",
        "\n",
        "train_acc = c.score(x_train, y_train) # accuracy\n",
        "test_acc = c.score(x_test, y_test)\n",
        "\n",
        "evaluate(c, x_test, y_test)"
      ],
      "execution_count": 33,
      "outputs": [
        {
          "output_type": "stream",
          "text": [
            "Accuracy                  = 0.8774\n",
            "Ballanced accuracy        = 0.8499\n",
            "F1                        = 0.9090\n",
            "Precision (PPV)           = 0.8787\n",
            "Recall (sensitivity, TPR) = 0.9415\n",
            "Specificity (TNR, 1-FPR)  = 0.7583\n",
            "AUC                       = 0.9308\n"
          ],
          "name": "stdout"
        },
        {
          "output_type": "display_data",
          "data": {
            "image/png": "[encoded data removed]",
            "text/plain": [
              "<Figure size 432x288 with 1 Axes>"
            ]
          },
          "metadata": {
            "tags": [],
            "needs_background": "light"
          }
        },
        {
          "output_type": "display_data",
          "data": {
            "image/png": "[encoded data removed]",
            "text/plain": [
              "<Figure size 432x288 with 1 Axes>"
            ]
          },
          "metadata": {
            "tags": [],
            "needs_background": "light"
          }
        }
      ]
    },
    {
      "cell_type": "markdown",
      "metadata": {
        "id": "faG04btTFGlb",
        "colab_type": "text"
      },
      "source": [
        "**Задание 4.4**\n",
        "\n",
        "Используя данные с черенковского телескопа из файла `magic04.csv` и метод кросс-валидации подберите максимальную глубину случайного леса таким образом, чтобы получить наилучший AUC при бинарной классификации методом случайного леса (`RandomForestClassifier`).\n",
        "Постройте график зависимости AUC от глубины дерева."
      ]
    },
    {
      "cell_type": "code",
      "metadata": {
        "id": "eIoeOnkXFGle",
        "colab_type": "code",
        "colab": {
          "base_uri": "https://localhost:8080/",
          "height": 66,
          "referenced_widgets": [
            "8d4b2a55768d463e9bbd5708b78a3829",
            "445281fd1bf242829347a3cd7945e6a9",
            "56bc4e145c2a42768509bd70567050a9",
            "a1d201faf519446d987c08590eeb5785",
            "d2cdd094c8ab4f86be8e481b357890d4",
            "76a8aab90c4d42bb88caff0c5933f187",
            "8f1153b6b9dc4122957a49361a942eb8",
            "a8b5b62f2e1349ada0e9607886670b0b"
          ]
        },
        "outputId": "cc6fa71a-b999-4c51-cce9-9e6a226da63a"
      },
      "source": [
        "from tqdm.notebook import tqdm\n",
        "from sklearn.ensemble import RandomForestClassifier\n",
        "from sklearn.model_selection import cross_validate\n",
        "\n",
        "max_depths = np.arange(1, 2 * np.log2(x.shape[0]), 2)\n",
        "\n",
        "scoring = {\n",
        "    \"auc\":       \"roc_auc\",\n",
        "    \"accuracy\":  \"accuracy\",\n",
        "}\n",
        "\n",
        "scores = []\n",
        "for max_depth in tqdm(max_depths):\n",
        "    c = RandomForestClassifier(max_depth=max_depth)\n",
        "    s = cross_validate(c, x, y.reshape(-1), cv=5, scoring=scoring, return_train_score=True)\n",
        "    scores.append(s)"
      ],
      "execution_count": 34,
      "outputs": [
        {
          "output_type": "display_data",
          "data": {
            "application/vnd.jupyter.widget-view+json": {
              "model_id": "8d4b2a55768d463e9bbd5708b78a3829",
              "version_minor": 0,
              "version_major": 2
            },
            "text/plain": [
              "HBox(children=(FloatProgress(value=0.0, max=14.0), HTML(value='')))"
            ]
          },
          "metadata": {
            "tags": []
          }
        },
        {
          "output_type": "stream",
          "text": [
            "\n"
          ],
          "name": "stdout"
        }
      ]
    },
    {
      "cell_type": "code",
      "metadata": {
        "id": "34ey2C7_FGl1",
        "colab_type": "code",
        "colab": {
          "base_uri": "https://localhost:8080/",
          "height": 118
        },
        "outputId": "377dca98-8c47-4375-8c7a-df90db6b1ae1"
      },
      "source": [
        "scores = flat_dict(scores)\n",
        "\n",
        "np.set_printoptions(precision=4)\n",
        "print(\"fit time = {}\".format(scores['fit_time'].mean(axis=1)))\n",
        "for s in scoring.keys():\n",
        "    print(\"{} = {}\".format(s, scores[\"test_{}\".format(s)].mean(axis=1)))"
      ],
      "execution_count": 35,
      "outputs": [
        {
          "output_type": "stream",
          "text": [
            "fit time = [0.5779 1.2643 1.9066 2.489  3.0536 3.4954 3.9144 4.255  4.5298 4.7421\n",
            " 4.8754 4.9265 4.9359 5.0513]\n",
            "auc = [0.8216 0.8772 0.8956 0.9128 0.9226 0.9289 0.9319 0.9337 0.9337 0.9352\n",
            " 0.9345 0.9349 0.9356 0.9354]\n",
            "accuracy = [0.728  0.8055 0.8372 0.8544 0.8636 0.8715 0.8733 0.8778 0.8771 0.8807\n",
            " 0.8798 0.8798 0.8807 0.8809]\n"
          ],
          "name": "stdout"
        }
      ]
    },
    {
      "cell_type": "code",
      "metadata": {
        "id": "dmyQbkKlFGmJ",
        "colab_type": "code",
        "colab": {
          "base_uri": "https://localhost:8080/",
          "height": 296
        },
        "outputId": "95664683-1f52-4da1-cc70-5ce6a527f322"
      },
      "source": [
        "plt.plot(max_depths, scores['test_auc'].mean(axis=1),'-*', label='test')\n",
        "plt.plot(max_depths, scores['test_accuracy'].mean(axis=1),'-*', label='train')\n",
        "plt.xlabel(\"Tree depth\")\n",
        "plt.ylabel(\"ROC AUC\")\n",
        "plt.legend()"
      ],
      "execution_count": 36,
      "outputs": [
        {
          "output_type": "execute_result",
          "data": {
            "text/plain": [
              "<matplotlib.legend.Legend at 0x7f1e640e9c50>"
            ]
          },
          "metadata": {
            "tags": []
          },
          "execution_count": 36
        },
        {
          "output_type": "display_data",
          "data": {
            "image/png": "[encoded data removed]",
            "text/plain": [
              "<Figure size 432x288 with 1 Axes>"
            ]
          },
          "metadata": {
            "tags": [],
            "needs_background": "light"
          }
        }
      ]
    },
    {
      "cell_type": "markdown",
      "metadata": {
        "id": "8QgMfM4yFGmb",
        "colab_type": "text"
      },
      "source": [
        "Адаптивный бустинг\n",
        "----------------"
      ]
    },
    {
      "cell_type": "code",
      "metadata": {
        "id": "OZXxt-yEFGme",
        "colab_type": "code",
        "colab": {
          "base_uri": "https://localhost:8080/",
          "height": 728
        },
        "outputId": "f3053253-93a7-45a8-8b5c-8d205ecdbe2c"
      },
      "source": [
        "from sklearn.ensemble import AdaBoostClassifier\n",
        "\n",
        "\n",
        "c = AdaBoostClassifier(random_state=0, n_estimators=200, base_estimator=DecisionTreeClassifier(max_depth=10))\n",
        "\n",
        "c.fit(x_train, y_train)\n",
        "\n",
        "#train_acc = c.score(x_train, y_train) # accuracy\n",
        "#test_acc = c.score(x_test, y_test)\n",
        "\n",
        "evaluate(c, x_test, y_test)"
      ],
      "execution_count": 37,
      "outputs": [
        {
          "output_type": "stream",
          "text": [
            "/usr/local/lib/python3.6/dist-packages/sklearn/utils/validation.py:760: DataConversionWarning: A column-vector y was passed when a 1d array was expected. Please change the shape of y to (n_samples, ), for example using ravel().\n",
            "  y = column_or_1d(y, warn=True)\n"
          ],
          "name": "stderr"
        },
        {
          "output_type": "stream",
          "text": [
            "Accuracy                  = 0.8772\n",
            "Ballanced accuracy        = 0.8455\n",
            "F1                        = 0.9097\n",
            "Precision (PPV)           = 0.8719\n",
            "Recall (sensitivity, TPR) = 0.9508\n",
            "Specificity (TNR, 1-FPR)  = 0.7402\n",
            "AUC                       = 0.9244\n"
          ],
          "name": "stdout"
        },
        {
          "output_type": "display_data",
          "data": {
            "image/png": "[encoded data removed]",
            "text/plain": [
              "<Figure size 432x288 with 1 Axes>"
            ]
          },
          "metadata": {
            "tags": [],
            "needs_background": "light"
          }
        },
        {
          "output_type": "display_data",
          "data": {
            "image/png": "[encoded data removed]",
            "text/plain": [
              "<Figure size 432x288 with 1 Axes>"
            ]
          },
          "metadata": {
            "tags": [],
            "needs_background": "light"
          }
        }
      ]
    },
    {
      "cell_type": "markdown",
      "metadata": {
        "id": "zZo0JQ4LFGm5",
        "colab_type": "text"
      },
      "source": [
        "**Задание 4.5**\n",
        "\n",
        "Используя данные с черенковского телескопа из файла `magic04.csv` и метод кросс-валидации подберите максимальную глубину дерева классификации, чтобы получить наилучший AUC при бинарной классификации методом адаптивного бустинга (`AdaBoostClassifier`).\n",
        "Постройте график зависимости AUC от глубины дерева."
      ]
    },
    {
      "cell_type": "code",
      "metadata": {
        "id": "V-FMF4vNFGm9",
        "colab_type": "code",
        "colab": {
          "base_uri": "https://localhost:8080/",
          "height": 66,
          "referenced_widgets": [
            "68a4c0dea13a417bacf7e47b9e7b30b4",
            "75b084d05bc24c88a837c957a56a2e8d",
            "6b075564d69f46198aeef5e8ce1ec39b",
            "864a234c9f01420b83c71953699e1098",
            "b4f28780ef21416ab7525bcf171d85b3",
            "8d04237ee8ea4394a2ab8662be0314d3",
            "721ab77d3c8e4465818e8bff08147afd",
            "8b2c660a56da42d1a970267e8de9e7ef"
          ]
        },
        "outputId": "cd1da970-1d80-426a-cec5-29d0dcbf6c9c"
      },
      "source": [
        "from tqdm.notebook import tqdm\n",
        "from sklearn.ensemble import AdaBoostClassifier\n",
        "from sklearn.model_selection import cross_validate\n",
        "\n",
        "max_depths = np.arange(1, 2 * np.log2(x.shape[0]), 2)\n",
        "\n",
        "scoring = {\n",
        "    \"auc\":       \"roc_auc\",\n",
        "    \"accuracy\":  \"accuracy\",\n",
        "}\n",
        "\n",
        "scores = []\n",
        "for max_depth in tqdm(max_depths):\n",
        "    c = AdaBoostClassifier(random_state=0, n_estimators=200, base_estimator=DecisionTreeClassifier(max_depth=max_depth))\n",
        "    s = cross_validate(c, x, y.reshape(-1), cv=5, scoring=scoring, return_train_score=True)\n",
        "    scores.append(s)"
      ],
      "execution_count": 38,
      "outputs": [
        {
          "output_type": "display_data",
          "data": {
            "application/vnd.jupyter.widget-view+json": {
              "model_id": "68a4c0dea13a417bacf7e47b9e7b30b4",
              "version_minor": 0,
              "version_major": 2
            },
            "text/plain": [
              "HBox(children=(FloatProgress(value=0.0, max=14.0), HTML(value='')))"
            ]
          },
          "metadata": {
            "tags": []
          }
        },
        {
          "output_type": "stream",
          "text": [
            "\n"
          ],
          "name": "stdout"
        }
      ]
    },
    {
      "cell_type": "code",
      "metadata": {
        "id": "-Kfh_wZgFGnP",
        "colab_type": "code",
        "colab": {
          "base_uri": "https://localhost:8080/",
          "height": 118
        },
        "outputId": "e6273f38-d085-4d65-d649-aa4e799d244d"
      },
      "source": [
        "scores = flat_dict(scores)\n",
        "\n",
        "np.set_printoptions(precision=4)\n",
        "print(\"fit time = {}\".format(scores['fit_time'].mean(axis=1)))\n",
        "for s in scoring.keys():\n",
        "    print(\"{} = {}\".format(s, scores[\"test_{}\".format(s)].mean(axis=1)))"
      ],
      "execution_count": 39,
      "outputs": [
        {
          "output_type": "stream",
          "text": [
            "fit time = [ 7.3391 14.6424 21.5357 27.5776 32.6609 35.9388 38.5556 39.8717 41.7043\n",
            " 42.5293 42.9029 43.8723 44.2169 44.3689]\n",
            "auc = [0.902  0.9    0.8816 0.9107 0.9258 0.9307 0.9315 0.9336 0.9347 0.9348\n",
            " 0.9359 0.9354 0.9352 0.9354]\n",
            "accuracy = [0.8476 0.859  0.8442 0.8642 0.8764 0.8789 0.8797 0.88   0.8808 0.8809\n",
            " 0.8811 0.8803 0.8798 0.8808]\n"
          ],
          "name": "stdout"
        }
      ]
    },
    {
      "cell_type": "code",
      "metadata": {
        "id": "7etXdOm6FGng",
        "colab_type": "code",
        "colab": {
          "base_uri": "https://localhost:8080/",
          "height": 299
        },
        "outputId": "ed07fc0a-55ea-4d2f-f9e6-edc468846519"
      },
      "source": [
        "plt.plot(max_depths, scores['test_auc'].mean(axis=1),'-*', label='test')\n",
        "plt.plot(max_depths, scores['test_accuracy'].mean(axis=1),'-*', label='train')\n",
        "plt.xlabel(\"Tree depth\")\n",
        "plt.ylabel(\"ROC AUC\")\n",
        "plt.legend()"
      ],
      "execution_count": 40,
      "outputs": [
        {
          "output_type": "execute_result",
          "data": {
            "text/plain": [
              "<matplotlib.legend.Legend at 0x7f1e63f4d7f0>"
            ]
          },
          "metadata": {
            "tags": []
          },
          "execution_count": 40
        },
        {
          "output_type": "display_data",
          "data": {
            "image/png": "[encoded data removed]",
            "text/plain": [
              "<Figure size 432x288 with 1 Axes>"
            ]
          },
          "metadata": {
            "tags": [],
            "needs_background": "light"
          }
        }
      ]
    },
    {
      "cell_type": "markdown",
      "metadata": {
        "id": "k6qFZgvwFGoA",
        "colab_type": "text"
      },
      "source": [
        "Градиентный бустинг\n",
        "------------------------------"
      ]
    },
    {
      "cell_type": "code",
      "metadata": {
        "id": "0Sz1dMNoFGoL",
        "colab_type": "code",
        "colab": {
          "base_uri": "https://localhost:8080/",
          "height": 728
        },
        "outputId": "a0e57e54-6c04-44fc-e507-465b3c23e20f"
      },
      "source": [
        "from sklearn.ensemble import GradientBoostingClassifier\n",
        "\n",
        "c = GradientBoostingClassifier(random_state=0, n_estimators=2000, max_depth=3)\n",
        "\n",
        "c.fit(x_train, y_train)\n",
        "\n",
        "train_acc = c.score(x_train, y_train) # accuracy\n",
        "test_acc = c.score(x_test, y_test)\n",
        "\n",
        "evaluate(c, x_test, y_test)"
      ],
      "execution_count": 41,
      "outputs": [
        {
          "output_type": "stream",
          "text": [
            "/usr/local/lib/python3.6/dist-packages/sklearn/ensemble/_gb.py:1454: DataConversionWarning: A column-vector y was passed when a 1d array was expected. Please change the shape of y to (n_samples, ), for example using ravel().\n",
            "  y = column_or_1d(y, warn=True)\n"
          ],
          "name": "stderr"
        },
        {
          "output_type": "stream",
          "text": [
            "Accuracy                  = 0.8814\n",
            "Ballanced accuracy        = 0.8550\n",
            "F1                        = 0.9118\n",
            "Precision (PPV)           = 0.8828\n",
            "Recall (sensitivity, TPR) = 0.9428\n",
            "Specificity (TNR, 1-FPR)  = 0.7673\n",
            "AUC                       = 0.9322\n"
          ],
          "name": "stdout"
        },
        {
          "output_type": "display_data",
          "data": {
            "image/png": "[encoded data removed]",
            "text/plain": [
              "<Figure size 432x288 with 1 Axes>"
            ]
          },
          "metadata": {
            "tags": [],
            "needs_background": "light"
          }
        },
        {
          "output_type": "display_data",
          "data": {
            "image/png": "[encoded data removed]",
            "text/plain": [
              "<Figure size 432x288 with 1 Axes>"
            ]
          },
          "metadata": {
            "tags": [],
            "needs_background": "light"
          }
        }
      ]
    },
    {
      "cell_type": "markdown",
      "metadata": {
        "id": "_MbHbmH3FGox",
        "colab_type": "text"
      },
      "source": [
        "**Задание 4.6**\n",
        "\n",
        "Используя данные с черенковского телескопа из файла `magic04.csv` и метод кросс-валидации подберите максимальную глубину дерева классификации, чтобы получить наилучший AUC при бинарной классификации методом градиентного бустинга (`GradientBoostingClassifier`).\n",
        "Постройте график зависимости AUC от глубины дерева."
      ]
    },
    {
      "cell_type": "code",
      "metadata": {
        "id": "d3g3AbsHFGo0",
        "colab_type": "code",
        "colab": {
          "base_uri": "https://localhost:8080/",
          "height": 66,
          "referenced_widgets": [
            "8f18a21058d4436b84ccfae98ab676e6",
            "dbeb1dfd94c94a6898d5acf35505db9a",
            "2405faca70b842d4af0027572462c569",
            "444ee9eadc2b4000894267aa4e8fa4fc",
            "223644ff3aef4115a9f468d5a9e9b251",
            "d44b42809aa04754be6cd0f4cde5490f",
            "58075c4050e845f9923cc0b586ec0ddc",
            "0ae8669ee1d74cc8b2d4935d3c0aec20"
          ]
        },
        "outputId": "09c9d41e-eca1-4b29-f871-159d7417bc8e"
      },
      "source": [
        "from tqdm.notebook import tqdm\n",
        "from sklearn.ensemble import GradientBoostingClassifier\n",
        "from sklearn.model_selection import cross_validate\n",
        "\n",
        "max_depths = np.arange(1, 2 * np.log2(x.shape[0]), 2)\n",
        "\n",
        "scoring = {\n",
        "    \"auc\":       \"roc_auc\",\n",
        "    \"accuracy\":  \"accuracy\",\n",
        "}\n",
        "\n",
        "scores = []\n",
        "for max_depth in tqdm(max_depths):\n",
        "    c = GradientBoostingClassifier(random_state=0, n_estimators=2000, max_depth=max_depth)\n",
        "    s = cross_validate(c, x, y.reshape(-1), cv=5, scoring=scoring, return_train_score=True)\n",
        "    scores.append(s)"
      ],
      "execution_count": 42,
      "outputs": [
        {
          "output_type": "display_data",
          "data": {
            "application/vnd.jupyter.widget-view+json": {
              "model_id": "8f18a21058d4436b84ccfae98ab676e6",
              "version_minor": 0,
              "version_major": 2
            },
            "text/plain": [
              "HBox(children=(FloatProgress(value=0.0, max=14.0), HTML(value='')))"
            ]
          },
          "metadata": {
            "tags": []
          }
        },
        {
          "output_type": "stream",
          "text": [
            "\n"
          ],
          "name": "stdout"
        }
      ]
    },
    {
      "cell_type": "code",
      "metadata": {
        "id": "tvkUmHaSFGpK",
        "colab_type": "code",
        "colab": {
          "base_uri": "https://localhost:8080/",
          "height": 118
        },
        "outputId": "a61d7ec1-6a0d-41bf-b2ba-1b55102e1b27"
      },
      "source": [
        "scores = flat_dict(scores)\n",
        "\n",
        "np.set_printoptions(precision=4)\n",
        "print(\"fit time = {}\".format(scores['fit_time'].mean(axis=1)))\n",
        "for s in scoring.keys():\n",
        "    print(\"{} = {}\".format(s, scores[\"test_{}\".format(s)].mean(axis=1)))"
      ],
      "execution_count": 43,
      "outputs": [
        {
          "output_type": "stream",
          "text": [
            "fit time = [ 40.0646 109.1795 176.1433 238.9527 196.9953 123.131   83.4967  56.652\n",
            "  41.8835  32.583   28.7645  27.6407  27.1819  27.017 ]\n",
            "auc = [0.9065 0.9341 0.9348 0.9355 0.9366 0.937  0.9369 0.9344 0.9315 0.9262\n",
            " 0.9197 0.9128 0.91   0.91  ]\n",
            "accuracy = [0.857  0.8822 0.8844 0.8842 0.8849 0.8852 0.8831 0.8793 0.8768 0.8686\n",
            " 0.8601 0.8516 0.8421 0.8346]\n"
          ],
          "name": "stdout"
        }
      ]
    },
    {
      "cell_type": "code",
      "metadata": {
        "id": "95W2QvTmFGpl",
        "colab_type": "code",
        "colab": {
          "base_uri": "https://localhost:8080/",
          "height": 296
        },
        "outputId": "3320e78d-0725-43fe-b2de-e1d2a6aea7e3"
      },
      "source": [
        "plt.plot(max_depths, scores['test_auc'].mean(axis=1),'-*')\n",
        "plt.xlabel(\"Tree depth\")\n",
        "plt.ylabel(\"ROC AUC\")"
      ],
      "execution_count": 44,
      "outputs": [
        {
          "output_type": "execute_result",
          "data": {
            "text/plain": [
              "Text(0, 0.5, 'ROC AUC')"
            ]
          },
          "metadata": {
            "tags": []
          },
          "execution_count": 44
        },
        {
          "output_type": "display_data",
          "data": {
            "image/png": "[encoded data removed]",
            "text/plain": [
              "<Figure size 432x288 with 1 Axes>"
            ]
          },
          "metadata": {
            "tags": [],
            "needs_background": "light"
          }
        }
      ]
    },
    {
      "cell_type": "markdown",
      "metadata": {
        "id": "Sbj5ef3TFGp7",
        "colab_type": "text"
      },
      "source": [
        "**Задание 4.7**\n",
        "\n",
        "За это задание можно получить *бонусные баллы*, за три наилучших решения среди всей группы.\n",
        "\n",
        "Используя один из четырех рассмотренных выше методов классификации с помощью деревьев, постройте бинарный классификатор для данных с черенковского телескопа из файла `magic04.csv` с наилучшим AUC для тестового набора данных. Можно подбирать любые гиперпараметры, которые окажется необходимо. Используйте функцию `evaluate`, чтобы нарисовать гистограмы классов и напечатать значения мер эффективности|."
      ]
    },
    {
      "cell_type": "code",
      "metadata": {
        "id": "LTDQJpTocSkI",
        "colab_type": "code",
        "colab": {
          "base_uri": "https://localhost:8080/",
          "height": 728
        },
        "outputId": "36417e6b-1e60-45d2-a494-1fed884196f5"
      },
      "source": [
        "from sklearn.ensemble import GradientBoostingClassifier\n",
        "\n",
        "c = GradientBoostingClassifier(random_state=0, n_estimators=2000, max_depth=12)\n",
        "\n",
        "c.fit(x_train, y_train)\n",
        "\n",
        "evaluate(c, x_test, y_test)"
      ],
      "execution_count": 46,
      "outputs": [
        {
          "output_type": "stream",
          "text": [
            "/usr/local/lib/python3.6/dist-packages/sklearn/ensemble/_gb.py:1454: DataConversionWarning: A column-vector y was passed when a 1d array was expected. Please change the shape of y to (n_samples, ), for example using ravel().\n",
            "  y = column_or_1d(y, warn=True)\n"
          ],
          "name": "stderr"
        },
        {
          "output_type": "stream",
          "text": [
            "Accuracy                  = 0.8810\n",
            "Ballanced accuracy        = 0.8536\n",
            "F1                        = 0.9117\n",
            "Precision (PPV)           = 0.8809\n",
            "Recall (sensitivity, TPR) = 0.9447\n",
            "Specificity (TNR, 1-FPR)  = 0.7625\n",
            "AUC                       = 0.9332\n"
          ],
          "name": "stdout"
        },
        {
          "output_type": "display_data",
          "data": {
            "image/png": "[encoded data removed]",
            "text/plain": [
              "<Figure size 432x288 with 1 Axes>"
            ]
          },
          "metadata": {
            "tags": [],
            "needs_background": "light"
          }
        },
        {
          "output_type": "display_data",
          "data": {
            "image/png": "[encoded data removed]",
            "text/plain": [
              "<Figure size 432x288 with 1 Axes>"
            ]
          },
          "metadata": {
            "tags": [],
            "needs_background": "light"
          }
        }
      ]
    },
    {
      "cell_type": "markdown",
      "metadata": {
        "id": "aH1ICiwYFGqA",
        "colab_type": "text"
      },
      "source": [
        "Изолирующий лес\n",
        "-----------------------------"
      ]
    },
    {
      "cell_type": "code",
      "metadata": {
        "id": "nMorV2vxFGqN",
        "colab_type": "code",
        "colab": {}
      },
      "source": [
        "import numpy as np\n",
        "import pandas as pd\n",
        "\n",
        "wl = np.asarray([7.8636, 8.0485, 8.2286, 8.4043, 8.5758, 8.7436, 8.9078, 9.0686, 9.2262, 9.3809, 9.5328, 9.6820, 9.8286, 9.9728, 10.1148, 10.2545, 10.3922, 10.5279, 10.6616, 10.7935, 10.9237, 11.0521, 11.1790, 11.3042, 11.4280, 11.5503, 11.6711, 11.7907, 11.9089, 12.0258, 12.1415, 12.2560, 12.3693, 12.4816, 12.5927, 12.7028, 12.8118, 12.9199, 13.0269, 13.1330, 13.2382, 13.3425, 13.4459, 13.5485, 10.9929, 11.3704, 11.7357, 12.0899, 12.4339, 12.7687, 13.0948, 13.4131, 13.7239, 14.0278, 14.3252, 14.6166, 14.9022, 15.1825, 15.4576, 15.7280, 15.9937, 16.2551, 16.5123, 16.7656, 17.0151, 17.2610, 17.5034, 17.7425, 17.9784, 18.2113, 18.4412, 18.6682, 18.8925, 19.1142, 19.3334, 19.5500, 19.7643, 19.9763, 20.1861, 20.3937, 20.5992, 20.8026, 21.0041, 21.2037, 21.4014, 21.5973, 21.7914, 21.9838, 22.1745, 22.3636, 22.5511, 22.7371, 22.9216])\n",
        "data = pd.read_csv('/content/drive/My Drive/2020-hw4-mindelly/lrs.csv', header=None)\n",
        "\n",
        "x = np.asarray(data.iloc[:, 11:54])\n",
        "wl = wl[:x.shape[1]]"
      ],
      "execution_count": 0,
      "outputs": []
    },
    {
      "cell_type": "code",
      "metadata": {
        "id": "BBqU_uyQFGqf",
        "colab_type": "code",
        "colab": {
          "base_uri": "https://localhost:8080/",
          "height": 312
        },
        "outputId": "1f530711-e8ed-4821-8f4a-9bce53158a73"
      },
      "source": [
        "plt.plot(wl, x[0,:], \"-\")\n",
        "plt.title(\"IRAS/LRS spectra\")\n",
        "plt.ylabel(\"Intensity (units)\")\n",
        "plt.xlabel(\"Wavelength (um)\")"
      ],
      "execution_count": 48,
      "outputs": [
        {
          "output_type": "execute_result",
          "data": {
            "text/plain": [
              "Text(0.5, 0, 'Wavelength (um)')"
            ]
          },
          "metadata": {
            "tags": []
          },
          "execution_count": 48
        },
        {
          "output_type": "display_data",
          "data": {
            "image/png": "[encoded data removed]",
            "text/plain": [
              "<Figure size 432x288 with 1 Axes>"
            ]
          },
          "metadata": {
            "tags": [],
            "needs_background": "light"
          }
        }
      ]
    },
    {
      "cell_type": "code",
      "metadata": {
        "id": "pJQnNmIZFGq2",
        "colab_type": "code",
        "colab": {}
      },
      "source": [
        "from sklearn.ensemble import IsolationForest\n",
        "from sklearn.manifold import TSNE\n",
        "from sklearn.decomposition import PCA\n",
        "\n",
        "pca = PCA(n_components=2, random_state=42)\n",
        "z = pca.fit_transform(x)\n",
        "\n",
        "c = IsolationForest(n_estimators=1000, contamination=\"auto\")\n",
        "c.fit(z)\n",
        "\n",
        "pred = c.predict(z)"
      ],
      "execution_count": 0,
      "outputs": []
    },
    {
      "cell_type": "code",
      "metadata": {
        "id": "YBzBt2aDFGrJ",
        "colab_type": "code",
        "colab": {
          "base_uri": "https://localhost:8080/",
          "height": 265
        },
        "outputId": "48137cad-1125-46f1-dbcd-0d42f2481f89"
      },
      "source": [
        "_ = plt.scatter(*z.T, s=2.5, c=pred, cmap=\"coolwarm\")"
      ],
      "execution_count": 50,
      "outputs": [
        {
          "output_type": "display_data",
          "data": {
            "image/png": "[encoded data removed]",
            "text/plain": [
              "<Figure size 432x288 with 1 Axes>"
            ]
          },
          "metadata": {
            "tags": [],
            "needs_background": "light"
          }
        }
      ]
    },
    {
      "cell_type": "code",
      "metadata": {
        "id": "7ZRNFtVFFGrd",
        "colab_type": "code",
        "colab": {
          "base_uri": "https://localhost:8080/",
          "height": 295
        },
        "outputId": "844ab045-b657-474b-ab94-e6bf46404641"
      },
      "source": [
        "plt.figure()\n",
        "plt.plot(wl, pca.components_[0,:], \"-\")\n",
        "plt.plot(wl, pca.components_[1,:], \"-\")\n",
        "plt.title(\"IRAS/LRS spectra\")\n",
        "plt.ylabel(\"Intensity (units)\")\n",
        "_ = plt.xlabel(\"Wavelength (um)\")"
      ],
      "execution_count": 51,
      "outputs": [
        {
          "output_type": "display_data",
          "data": {
            "image/png": "[encoded data removed]",
            "text/plain": [
              "<Figure size 432x288 with 1 Axes>"
            ]
          },
          "metadata": {
            "tags": [],
            "needs_background": "light"
          }
        }
      ]
    },
    {
      "cell_type": "markdown",
      "metadata": {
        "id": "kzKcQv1VFGrr",
        "colab_type": "text"
      },
      "source": [
        "**Задание 4.8**\n",
        "\n",
        "Используйте данные спектров космических объектов с ИК спутника из файла `lsr.csv` и метод изолирующего леса `IsolationForest`, чтобы найти 10 наболее отличных от остальных спектров. Распечатайте соответсвтвующие таким спектрам строки из исходного объекта `data`. Нарисуйте на графике самый необычный спектр."
      ]
    },
    {
      "cell_type": "code",
      "metadata": {
        "scrolled": true,
        "id": "fB5sLbEZFGru",
        "colab_type": "code",
        "colab": {}
      },
      "source": [
        "# код потерялся"
      ],
      "execution_count": 0,
      "outputs": []
    }
  ]
}