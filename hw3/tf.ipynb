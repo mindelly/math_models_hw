{
 "cells": [
  {
   "cell_type": "code",
   "execution_count": 0,
   "metadata": {
    "colab": {},
    "colab_type": "code",
    "id": "BoQJaNH0T8dc"
   },
   "outputs": [],
   "source": [
    "import matplotlib\n",
    "import matplotlib.pyplot as plt"
   ]
  },
  {
   "cell_type": "code",
   "execution_count": 0,
   "metadata": {
    "colab": {},
    "colab_type": "code",
    "id": "m8trS24-T8dk"
   },
   "outputs": [],
   "source": [
    "import tensorflow as tf"
   ]
  },
  {
   "cell_type": "code",
   "execution_count": 3,
   "metadata": {
    "colab": {
     "base_uri": "https://localhost:8080/",
     "height": 121
    },
    "colab_type": "code",
    "executionInfo": {
     "elapsed": 24651,
     "status": "ok",
     "timestamp": 1591124426210,
     "user": {
      "displayName": "Stacy Mind",
      "photoUrl": "https://lh3.googleusercontent.com/a-/AOh14GgfwU9F3ti7Mjfrb954cx3vdn-Uy0ndpabUblUY=s64",
      "userId": "17381500996281350145"
     },
     "user_tz": -180
    },
    "id": "fOVznUXoZWXx",
    "outputId": "846b5b1b-2b99-440f-a96e-11cff1e62766"
   },
   "outputs": [
    {
     "name": "stdout",
     "output_type": "stream",
     "text": [
      "Go to this URL in a browser: https://accounts.google.com/o/oauth2/auth?client_id=947318989803-6bn6qk8qdgf4n4g3pfee6491hc0brc4i.apps.googleusercontent.com&redirect_uri=urn%3aietf%3awg%3aoauth%3a2.0%3aoob&response_type=code&scope=email%20https%3a%2f%2fwww.googleapis.com%2fauth%2fdocs.test%20https%3a%2f%2fwww.googleapis.com%2fauth%2fdrive%20https%3a%2f%2fwww.googleapis.com%2fauth%2fdrive.photos.readonly%20https%3a%2f%2fwww.googleapis.com%2fauth%2fpeopleapi.readonly\n",
      "\n",
      "Enter your authorization code:\n",
      "··········\n",
      "Mounted at /content/drive\n"
     ]
    }
   ],
   "source": [
    "from google.colab import drive\n",
    "drive.mount('/content/drive')"
   ]
  },
  {
   "cell_type": "markdown",
   "metadata": {
    "colab_type": "text",
    "id": "oQOwbGJpT8dp"
   },
   "source": [
    "**Задание 3b.1**\n",
    "\n",
    "Перед вами опять до боли знакомый набор данных детектора черенковского излучения. Ваша задача переписать классификатор из блокнота `torch.ipynb` с использованием фреймворка TensorFlow и API Keras. Почти весь код уже написан, вам осталось самостоятельно заполнить пропущенные места, используя документацию (https://www.tensorflow.org/api_docs/python/tf/keras/layers):\n",
    "\n",
    "* Аналогом `torch.nn.Sequential` является `tf.keras.Sequential`,\n",
    "* Полносвязный слой удобно задавать используя `tf.keras.layers.Dense`.\n",
    "\n",
    "Используйте значения метапараметров (количество скрытых нейронов, скорость обучения и т.п.) определенные при работе с аналогичным заданием из блокнота `torch.ipynb`."
   ]
  },
  {
   "cell_type": "code",
   "execution_count": 0,
   "metadata": {
    "colab": {},
    "colab_type": "code",
    "id": "PGni88r3T8dq"
   },
   "outputs": [],
   "source": [
    "import numpy as np\n",
    "import pandas as pd\n",
    "\n",
    "names = [\"length\", \"width\", \"size\", \"conc\", \"conc1\", \"asym\", \"m3long\", \"m3trans\", \"alpha\", \"dist\", \"class\"]\n",
    "data = pd.read_csv('/content/drive/My Drive/2020-hw3-mindelly-master/magic04.csv', names=names)\n",
    "\n",
    "x = np.asarray(data.iloc[:, :-1]).astype(np.float32)\n",
    "y = np.asarray(data.iloc[:, [-1]])\n",
    "y = (y == 'g').astype(np.float32)"
   ]
  },
  {
   "cell_type": "code",
   "execution_count": 0,
   "metadata": {
    "colab": {},
    "colab_type": "code",
    "id": "fabGf2wUT8du"
   },
   "outputs": [],
   "source": [
    "from sklearn.model_selection import train_test_split\n",
    "\n",
    "x_train, x_test, y_train, y_test = train_test_split(x, y)\n",
    "\n",
    "train_dataset = tf.data.Dataset.from_tensor_slices((x_train, y_train)).batch(5)\n",
    "test_dataset = tf.data.Dataset.from_tensor_slices((x_test, y_test)).batch(5)"
   ]
  },
  {
   "cell_type": "code",
   "execution_count": 6,
   "metadata": {
    "colab": {
     "base_uri": "https://localhost:8080/",
     "height": 1000
    },
    "colab_type": "code",
    "executionInfo": {
     "elapsed": 221356,
     "status": "ok",
     "timestamp": 1591124661013,
     "user": {
      "displayName": "Stacy Mind",
      "photoUrl": "https://lh3.googleusercontent.com/a-/AOh14GgfwU9F3ti7Mjfrb954cx3vdn-Uy0ndpabUblUY=s64",
      "userId": "17381500996281350145"
     },
     "user_tz": -180
    },
    "id": "gS-M423GT8dy",
    "outputId": "e5bdb037-07d4-46dd-8cd2-bbdc78f64982"
   },
   "outputs": [
    {
     "name": "stdout",
     "output_type": "stream",
     "text": [
      "Epoch 1/50\n",
      "2853/2853 [==============================] - 5s 2ms/step - loss: 0.2005 - accuracy: 0.7196 - val_loss: 0.1649 - val_accuracy: 0.7533\n",
      "Epoch 2/50\n",
      "2853/2853 [==============================] - 4s 2ms/step - loss: 0.1602 - accuracy: 0.7659 - val_loss: 0.1573 - val_accuracy: 0.7811\n",
      "Epoch 3/50\n",
      "2853/2853 [==============================] - 4s 2ms/step - loss: 0.1526 - accuracy: 0.7807 - val_loss: 0.1506 - val_accuracy: 0.7941\n",
      "Epoch 4/50\n",
      "2853/2853 [==============================] - 4s 2ms/step - loss: 0.1465 - accuracy: 0.7944 - val_loss: 0.1473 - val_accuracy: 0.7952\n",
      "Epoch 5/50\n",
      "2853/2853 [==============================] - 5s 2ms/step - loss: 0.1421 - accuracy: 0.8043 - val_loss: 0.1381 - val_accuracy: 0.8116\n",
      "Epoch 6/50\n",
      "2853/2853 [==============================] - 5s 2ms/step - loss: 0.1394 - accuracy: 0.8084 - val_loss: 0.1355 - val_accuracy: 0.8168\n",
      "Epoch 7/50\n",
      "2853/2853 [==============================] - 4s 2ms/step - loss: 0.1377 - accuracy: 0.8101 - val_loss: 0.1346 - val_accuracy: 0.8175\n",
      "Epoch 8/50\n",
      "2853/2853 [==============================] - 4s 2ms/step - loss: 0.1368 - accuracy: 0.8139 - val_loss: 0.1338 - val_accuracy: 0.8179\n",
      "Epoch 9/50\n",
      "2853/2853 [==============================] - 4s 2ms/step - loss: 0.1361 - accuracy: 0.8130 - val_loss: 0.1347 - val_accuracy: 0.8130\n",
      "Epoch 10/50\n",
      "2853/2853 [==============================] - 4s 2ms/step - loss: 0.1355 - accuracy: 0.8144 - val_loss: 0.1341 - val_accuracy: 0.8149\n",
      "Epoch 11/50\n",
      "2853/2853 [==============================] - 4s 2ms/step - loss: 0.1350 - accuracy: 0.8127 - val_loss: 0.1330 - val_accuracy: 0.8164\n",
      "Epoch 12/50\n",
      "2853/2853 [==============================] - 4s 2ms/step - loss: 0.1346 - accuracy: 0.8135 - val_loss: 0.1324 - val_accuracy: 0.8187\n",
      "Epoch 13/50\n",
      "2853/2853 [==============================] - 4s 2ms/step - loss: 0.1341 - accuracy: 0.8151 - val_loss: 0.1355 - val_accuracy: 0.8126\n",
      "Epoch 14/50\n",
      "2853/2853 [==============================] - 4s 2ms/step - loss: 0.1334 - accuracy: 0.8163 - val_loss: 0.1315 - val_accuracy: 0.8193\n",
      "Epoch 15/50\n",
      "2853/2853 [==============================] - 4s 2ms/step - loss: 0.1333 - accuracy: 0.8172 - val_loss: 0.1305 - val_accuracy: 0.8206\n",
      "Epoch 16/50\n",
      "2853/2853 [==============================] - 4s 2ms/step - loss: 0.1332 - accuracy: 0.8162 - val_loss: 0.1310 - val_accuracy: 0.8185\n",
      "Epoch 17/50\n",
      "2853/2853 [==============================] - 4s 2ms/step - loss: 0.1328 - accuracy: 0.8153 - val_loss: 0.1316 - val_accuracy: 0.8204\n",
      "Epoch 18/50\n",
      "2853/2853 [==============================] - 4s 2ms/step - loss: 0.1326 - accuracy: 0.8163 - val_loss: 0.1304 - val_accuracy: 0.8229\n",
      "Epoch 19/50\n",
      "2853/2853 [==============================] - 4s 2ms/step - loss: 0.1327 - accuracy: 0.8157 - val_loss: 0.1292 - val_accuracy: 0.8238\n",
      "Epoch 20/50\n",
      "2853/2853 [==============================] - 4s 2ms/step - loss: 0.1319 - accuracy: 0.8161 - val_loss: 0.1308 - val_accuracy: 0.8162\n",
      "Epoch 21/50\n",
      "2853/2853 [==============================] - 4s 2ms/step - loss: 0.1322 - accuracy: 0.8168 - val_loss: 0.1294 - val_accuracy: 0.8231\n",
      "Epoch 22/50\n",
      "2853/2853 [==============================] - 4s 2ms/step - loss: 0.1316 - accuracy: 0.8174 - val_loss: 0.1294 - val_accuracy: 0.8215\n",
      "Epoch 23/50\n",
      "2853/2853 [==============================] - 4s 2ms/step - loss: 0.1309 - accuracy: 0.8203 - val_loss: 0.1293 - val_accuracy: 0.8238\n",
      "Epoch 24/50\n",
      "2853/2853 [==============================] - 4s 2ms/step - loss: 0.1309 - accuracy: 0.8194 - val_loss: 0.1286 - val_accuracy: 0.8250\n",
      "Epoch 25/50\n",
      "2853/2853 [==============================] - 4s 2ms/step - loss: 0.1309 - accuracy: 0.8179 - val_loss: 0.1289 - val_accuracy: 0.8217\n",
      "Epoch 26/50\n",
      "2853/2853 [==============================] - 4s 2ms/step - loss: 0.1306 - accuracy: 0.8186 - val_loss: 0.1279 - val_accuracy: 0.8236\n",
      "Epoch 27/50\n",
      "2853/2853 [==============================] - 4s 2ms/step - loss: 0.1304 - accuracy: 0.8207 - val_loss: 0.1299 - val_accuracy: 0.8196\n",
      "Epoch 28/50\n",
      "2853/2853 [==============================] - 4s 2ms/step - loss: 0.1306 - accuracy: 0.8206 - val_loss: 0.1282 - val_accuracy: 0.8229\n",
      "Epoch 29/50\n",
      "2853/2853 [==============================] - 4s 2ms/step - loss: 0.1307 - accuracy: 0.8200 - val_loss: 0.1286 - val_accuracy: 0.8236\n",
      "Epoch 30/50\n",
      "2853/2853 [==============================] - 4s 1ms/step - loss: 0.1302 - accuracy: 0.8196 - val_loss: 0.1304 - val_accuracy: 0.8193\n",
      "Epoch 31/50\n",
      "2853/2853 [==============================] - 4s 2ms/step - loss: 0.1303 - accuracy: 0.8198 - val_loss: 0.1291 - val_accuracy: 0.8233\n",
      "Epoch 32/50\n",
      "2853/2853 [==============================] - 4s 2ms/step - loss: 0.1299 - accuracy: 0.8208 - val_loss: 0.1289 - val_accuracy: 0.8208\n",
      "Epoch 33/50\n",
      "2853/2853 [==============================] - 4s 2ms/step - loss: 0.1299 - accuracy: 0.8194 - val_loss: 0.1285 - val_accuracy: 0.8233\n",
      "Epoch 34/50\n",
      "2853/2853 [==============================] - 4s 2ms/step - loss: 0.1296 - accuracy: 0.8207 - val_loss: 0.1283 - val_accuracy: 0.8217\n",
      "Epoch 35/50\n",
      "2853/2853 [==============================] - 4s 2ms/step - loss: 0.1298 - accuracy: 0.8215 - val_loss: 0.1283 - val_accuracy: 0.8208\n",
      "Epoch 36/50\n",
      "2853/2853 [==============================] - 4s 2ms/step - loss: 0.1293 - accuracy: 0.8206 - val_loss: 0.1287 - val_accuracy: 0.8193\n",
      "Epoch 37/50\n",
      "2853/2853 [==============================] - 4s 2ms/step - loss: 0.1293 - accuracy: 0.8202 - val_loss: 0.1307 - val_accuracy: 0.8179\n",
      "Epoch 38/50\n",
      "2853/2853 [==============================] - 4s 2ms/step - loss: 0.1294 - accuracy: 0.8210 - val_loss: 0.1301 - val_accuracy: 0.8160\n",
      "Epoch 39/50\n",
      "2853/2853 [==============================] - 4s 2ms/step - loss: 0.1296 - accuracy: 0.8204 - val_loss: 0.1305 - val_accuracy: 0.8168\n",
      "Epoch 40/50\n",
      "2853/2853 [==============================] - 4s 2ms/step - loss: 0.1301 - accuracy: 0.8198 - val_loss: 0.1293 - val_accuracy: 0.8221\n",
      "Epoch 41/50\n",
      "2853/2853 [==============================] - 4s 2ms/step - loss: 0.1299 - accuracy: 0.8193 - val_loss: 0.1300 - val_accuracy: 0.8217\n",
      "Epoch 42/50\n",
      "2853/2853 [==============================] - 4s 2ms/step - loss: 0.1292 - accuracy: 0.8212 - val_loss: 0.1298 - val_accuracy: 0.8212\n",
      "Epoch 43/50\n",
      "2853/2853 [==============================] - 4s 2ms/step - loss: 0.1293 - accuracy: 0.8220 - val_loss: 0.1304 - val_accuracy: 0.8172\n",
      "Epoch 44/50\n",
      "2853/2853 [==============================] - 4s 1ms/step - loss: 0.1288 - accuracy: 0.8217 - val_loss: 0.1311 - val_accuracy: 0.8147\n",
      "Epoch 45/50\n",
      "2853/2853 [==============================] - 4s 2ms/step - loss: 0.1297 - accuracy: 0.8214 - val_loss: 0.1303 - val_accuracy: 0.8166\n",
      "Epoch 46/50\n",
      "2853/2853 [==============================] - 4s 2ms/step - loss: 0.1288 - accuracy: 0.8211 - val_loss: 0.1293 - val_accuracy: 0.8177\n",
      "Epoch 47/50\n",
      "2853/2853 [==============================] - 4s 2ms/step - loss: 0.1293 - accuracy: 0.8215 - val_loss: 0.1305 - val_accuracy: 0.8166\n",
      "Epoch 48/50\n",
      "2853/2853 [==============================] - 4s 2ms/step - loss: 0.1291 - accuracy: 0.8218 - val_loss: 0.1301 - val_accuracy: 0.8215\n",
      "Epoch 49/50\n",
      "2853/2853 [==============================] - 4s 2ms/step - loss: 0.1296 - accuracy: 0.8209 - val_loss: 0.1304 - val_accuracy: 0.8149\n",
      "Epoch 50/50\n",
      "2853/2853 [==============================] - 4s 2ms/step - loss: 0.1296 - accuracy: 0.8203 - val_loss: 0.1300 - val_accuracy: 0.8179\n"
     ]
    }
   ],
   "source": [
    "tf.random.set_seed(43)\n",
    "\n",
    "INPUT_DIM  = x.shape[1]\n",
    "HIDDEN_DIM = 30\n",
    "OUTPUT_DIM = y.shape[1]\n",
    "\n",
    "model = tf.keras.Sequential()\n",
    "model.add(tf.keras.layers.Dense(HIDDEN_DIM, activation='sigmoid'))\n",
    "model.add(tf.keras.layers.Dense(OUTPUT_DIM, activation='tanh'))\n",
    "\n",
    "learning_rate = 1e-3\n",
    "model.compile(optimizer=tf.keras.optimizers.Adam(learning_rate=learning_rate), loss='MSE', metrics=['accuracy'])\n",
    "\n",
    "_ = model.fit(train_dataset, epochs=50, validation_data=test_dataset)"
   ]
  },
  {
   "cell_type": "code",
   "execution_count": 7,
   "metadata": {
    "colab": {
     "base_uri": "https://localhost:8080/",
     "height": 574
    },
    "colab_type": "code",
    "executionInfo": {
     "elapsed": 215469,
     "status": "ok",
     "timestamp": 1591124661833,
     "user": {
      "displayName": "Stacy Mind",
      "photoUrl": "https://lh3.googleusercontent.com/a-/AOh14GgfwU9F3ti7Mjfrb954cx3vdn-Uy0ndpabUblUY=s64",
      "userId": "17381500996281350145"
     },
     "user_tz": -180
    },
    "id": "yu9zCETxT8d1",
    "outputId": "e07eadf3-1257-4296-f097-d9903acda137"
   },
   "outputs": [
    {
     "name": "stdout",
     "output_type": "stream",
     "text": [
      "AUC                       = 0.8766\n"
     ]
    },
    {
     "data": {
      "image/png": "[encoded data removed]",
      "text/plain": [
       "<Figure size 432x288 with 1 Axes>"
      ]
     },
     "metadata": {
      "needs_background": "light",
      "tags": []
     },
     "output_type": "display_data"
    },
    {
     "data": {
      "image/png": "[encoded data removed]",
      "text/plain": [
       "<Figure size 432x288 with 1 Axes>"
      ]
     },
     "metadata": {
      "needs_background": "light",
      "tags": []
     },
     "output_type": "display_data"
    }
   ],
   "source": [
    "import sklearn.metrics\n",
    "\n",
    "y_true = y_test\n",
    "scores = model.predict(x_test)\n",
    "\n",
    "min_score, max_score = np.min(scores), np.max(scores)\n",
    "bins = np.linspace(min_score, max_score, 25)\n",
    "plt.figure()\n",
    "plt.hist(scores[y_true.reshape(-1) == 0], bins, alpha=0.5, label='Hadron (negative)')\n",
    "plt.hist(scores[y_true.reshape(-1) == 1], bins, alpha=0.5, label='Gamma (positive)')\n",
    "plt.xlabel(\"Decision function (value)\")\n",
    "plt.ylabel(\"Frequency\")\n",
    "plt.legend()\n",
    "\n",
    "fpr, tpr, _ = sklearn.metrics.roc_curve(y_true, scores)\n",
    "auc = sklearn.metrics.roc_auc_score(y_true, scores)\n",
    "plt.figure()\n",
    "plt.plot(fpr, tpr)\n",
    "plt.title(\"Receiver operating characteristic\")\n",
    "plt.xlabel(\"False positive rate\")\n",
    "plt.ylabel(\"True positive rate\")\n",
    "print(\"AUC                       = {:.4f}\".format(auc))"
   ]
  },
  {
   "cell_type": "markdown",
   "metadata": {
    "colab_type": "text",
    "id": "JBoeE8lpT8d3"
   },
   "source": [
    "**Задание 3b.2**\n",
    "\n",
    "В блокноте `torch.ipynb` реализован автоэнкодер для набора рукописных цифр MNIST на базе свёрточных нейронных сетей. Настало время переписать и его с использованием фреймворка TensorFlow и API Keras.\n",
    "Используйте документацию (https://www.tensorflow.org/api_docs/python/tf/keras/layers), чтобы воспроизвести известную вам существующую архитектуру с помощью нового фреймворка.\n",
    "\n",
    "* Нарисуйте четыре случайных изображения из тестового набора данных: исходное изображение, закодированное сжатое представление в виде гистограмы, и раскодированное изображение.\n",
    "* Попробуйте сгенерировать четыре случайных изображения, подав на вход декодера случайные данные."
   ]
  },
  {
   "cell_type": "code",
   "execution_count": 8,
   "metadata": {
    "colab": {
     "base_uri": "https://localhost:8080/",
     "height": 50
    },
    "colab_type": "code",
    "executionInfo": {
     "elapsed": 1618,
     "status": "ok",
     "timestamp": 1591124672916,
     "user": {
      "displayName": "Stacy Mind",
      "photoUrl": "https://lh3.googleusercontent.com/a-/AOh14GgfwU9F3ti7Mjfrb954cx3vdn-Uy0ndpabUblUY=s64",
      "userId": "17381500996281350145"
     },
     "user_tz": -180
    },
    "id": "EeBAgTOBT8d4",
    "outputId": "775bd8db-0d1c-44a6-938b-263af239a54d"
   },
   "outputs": [
    {
     "name": "stdout",
     "output_type": "stream",
     "text": [
      "Downloading data from https://storage.googleapis.com/tensorflow/tf-keras-datasets/mnist.npz\n",
      "11493376/11490434 [==============================] - 0s 0us/step\n"
     ]
    }
   ],
   "source": [
    "tf.random.set_seed(43)\n",
    "\n",
    "(x_train, y_train), (x_test, y_test) = tf.keras.datasets.mnist.load_data()\n",
    "x_train, x_test = x_train / 255.0, x_test / 255.0\n",
    "\n",
    "train_dataset = tf.data.Dataset.from_tensor_slices((x_train, x_train)).shuffle(1000).batch(4)\n",
    "test_dataset = tf.data.Dataset.from_tensor_slices((x_test, x_test)).shuffle(1000).batch(4)"
   ]
  },
  {
   "cell_type": "code",
   "execution_count": 0,
   "metadata": {
    "colab": {},
    "colab_type": "code",
    "id": "J6IcgPc7T8d7"
   },
   "outputs": [],
   "source": [
    "INPUT_SHAPE = (28, 28, 1) \n",
    "HIDDEN1_CH = 24 \n",
    "HIDDEN2_CH = 32 \n",
    "LATENT_DIM = 8 \n",
    " \n",
    "def get_model(): \n",
    "    inputs = tf.keras.Input(shape=INPUT_SHAPE, name='encoder_input') \n",
    " \n",
    "    encoder = tf.keras.Sequential([ \n",
    "    inputs, \n",
    "    tf.keras.layers.Conv2D(HIDDEN1_CH, 3, strides = 2, activation='relu'), \n",
    "    tf.keras.layers.Conv2D(HIDDEN2_CH, 3, strides=2, activation='relu', use_bias=False), \n",
    "    tf.keras.layers.Conv2D(LATENT_DIM, 6, activation='sigmoid', use_bias=False) \n",
    "    ]) \n",
    "\n",
    "    decoder = tf.keras.Sequential([ \n",
    "    tf.keras.layers.LayerNormalization(), \n",
    "    tf.keras.layers.Conv2DTranspose(HIDDEN2_CH, 6, activation='relu', use_bias=False), \n",
    "    tf.keras.layers.Conv2DTranspose(HIDDEN2_CH, 3, strides=2, activation='relu', use_bias=False), \n",
    "    tf.keras.layers.Conv2DTranspose(HIDDEN1_CH, 4, strides=2, activation='relu', use_bias=False), \n",
    "    tf.keras.layers.Conv2DTranspose(1, 1, activation='sigmoid', use_bias=False) \n",
    "    ]) \n",
    "\n",
    "    autoencoder = tf.keras.Model(inputs=inputs, outputs=decoder(encoder(inputs))) \n",
    "\n",
    "    return autoencoder, encoder, decoder \n",
    " \n",
    "model, encoder, decoder = get_model()"
   ]
  },
  {
   "cell_type": "code",
   "execution_count": 10,
   "metadata": {
    "colab": {
     "base_uri": "https://localhost:8080/",
     "height": 218
    },
    "colab_type": "code",
    "executionInfo": {
     "elapsed": 2178565,
     "status": "ok",
     "timestamp": 1591126961306,
     "user": {
      "displayName": "Stacy Mind",
      "photoUrl": "https://lh3.googleusercontent.com/a-/AOh14GgfwU9F3ti7Mjfrb954cx3vdn-Uy0ndpabUblUY=s64",
      "userId": "17381500996281350145"
     },
     "user_tz": -180
    },
    "id": "Yba8ndMRT8d-",
    "outputId": "b47a5601-858c-42f8-c8b9-7230ae246397"
   },
   "outputs": [
    {
     "name": "stdout",
     "output_type": "stream",
     "text": [
      "Epoch 1/6\n",
      "15000/15000 [==============================] - 312s 21ms/step - loss: 0.0275 - val_loss: 0.0238\n",
      "Epoch 2/6\n",
      "15000/15000 [==============================] - 345s 23ms/step - loss: 0.0230 - val_loss: 0.0226\n",
      "Epoch 3/6\n",
      "15000/15000 [==============================] - 361s 24ms/step - loss: 0.0220 - val_loss: 0.0220\n",
      "Epoch 4/6\n",
      "15000/15000 [==============================] - 379s 25ms/step - loss: 0.0214 - val_loss: 0.0214\n",
      "Epoch 5/6\n",
      "15000/15000 [==============================] - 377s 25ms/step - loss: 0.0210 - val_loss: 0.0211\n",
      "Epoch 6/6\n",
      "15000/15000 [==============================] - 401s 27ms/step - loss: 0.0208 - val_loss: 0.0209\n"
     ]
    }
   ],
   "source": [
    "tf.random.set_seed(41)\n",
    "\n",
    "learning_rate = 1e-3\n",
    "model.compile(optimizer=tf.keras.optimizers.Adam(learning_rate=learning_rate), loss='MSE')\n",
    "\n",
    "_ = model.fit(train_dataset, epochs=6, validation_data=test_dataset)"
   ]
  },
  {
   "cell_type": "code",
   "execution_count": 13,
   "metadata": {
    "colab": {
     "base_uri": "https://localhost:8080/",
     "height": 457
    },
    "colab_type": "code",
    "executionInfo": {
     "elapsed": 2519,
     "status": "ok",
     "timestamp": 1591127037669,
     "user": {
      "displayName": "Stacy Mind",
      "photoUrl": "https://lh3.googleusercontent.com/a-/AOh14GgfwU9F3ti7Mjfrb954cx3vdn-Uy0ndpabUblUY=s64",
      "userId": "17381500996281350145"
     },
     "user_tz": -180
    },
    "id": "epGK6ZQpT8eA",
    "outputId": "89a7764a-3881-474b-a349-7b2f67f02847"
   },
   "outputs": [
    {
     "data": {
      "image/png": "[encoded data removed]",
      "text/plain": [
       "<Figure size 720x540 with 12 Axes>"
      ]
     },
     "metadata": {
      "needs_background": "light",
      "tags": []
     },
     "output_type": "display_data"
    }
   ],
   "source": [
    "plt.figure(figsize=(10, 7.5))\n",
    "n_col = 4\n",
    "images, _ = iter(test_dataset).next()\n",
    "encoded = encoder(images)\n",
    "decoded = decoder(encoded) \n",
    "\n",
    "for i in range(n_col):\n",
    "    ax = plt.subplot(3, n_col, i + 1)\n",
    "    plt.imshow(images[i], cmap='gray') \n",
    "    ax = plt.subplot(3, n_col, i + 1 + n_col)\n",
    "    plt.bar(np.arange(8), tf.reshape(encoded[i], 8))\n",
    "    ax = plt.subplot(3, n_col, i + 1 + n_col * 2)\n",
    "    plt.imshow(tf.reshape(decoded[i], [28, 28]), cmap='gray') \n",
    "\n",
    "plt.show()\n"
   ]
  },
  {
   "cell_type": "code",
   "execution_count": 14,
   "metadata": {
    "colab": {
     "base_uri": "https://localhost:8080/",
     "height": 319
    },
    "colab_type": "code",
    "executionInfo": {
     "elapsed": 1708,
     "status": "ok",
     "timestamp": 1591127100755,
     "user": {
      "displayName": "Stacy Mind",
      "photoUrl": "https://lh3.googleusercontent.com/a-/AOh14GgfwU9F3ti7Mjfrb954cx3vdn-Uy0ndpabUblUY=s64",
      "userId": "17381500996281350145"
     },
     "user_tz": -180
    },
    "id": "GZviFrehT8eC",
    "outputId": "d28a2a4f-b797-4e7f-ca4f-bdc6c5384602"
   },
   "outputs": [
    {
     "data": {
      "image/png": "[encoded data removed]",
      "text/plain": [
       "<Figure size 720x360 with 8 Axes>"
      ]
     },
     "metadata": {
      "needs_background": "light",
      "tags": []
     },
     "output_type": "display_data"
    }
   ],
   "source": [
    "np.random.seed(41)\n",
    "\n",
    "encoded = tf.random.uniform((4, 1, 1, 8))\n",
    "decoded = decoder(encoded) \n",
    "\n",
    "plt.figure(figsize=(10, 5))\n",
    "n_col = 4\n",
    "\n",
    "for i in range(n_col):\n",
    "\n",
    "    ax = plt.subplot(2, n_col, i + 1)\n",
    "    plt.bar(np.arange(encoded.shape[3]), tf.reshape(encoded[i, :], 8))\n",
    "    ax = plt.subplot(2, n_col, i + 1 + n_col)\n",
    "    plt.imshow(tf.reshape(decoded[i], [28, 28]), cmap='gray') \n",
    "\n",
    "plt.show()"
   ]
  },
  {
   "cell_type": "code",
   "execution_count": 0,
   "metadata": {
    "colab": {},
    "colab_type": "code",
    "id": "JSafCCd3T8eF"
   },
   "outputs": [],
   "source": [
    "\n"
   ]
  }
 ],
 "metadata": {
  "colab": {
   "collapsed_sections": [],
   "name": "tf.ipynb",
   "provenance": []
  },
  "kernelspec": {
   "display_name": "Python 3",
   "language": "python",
   "name": "python3"
  },
  "language_info": {
   "codemirror_mode": {
    "name": "ipython",
    "version": 3
   },
   "file_extension": ".py",
   "mimetype": "text/x-python",
   "name": "python",
   "nbconvert_exporter": "python",
   "pygments_lexer": "ipython3",
   "version": "3.8.2"
  }
 },
 "nbformat": 4,
 "nbformat_minor": 1
}
